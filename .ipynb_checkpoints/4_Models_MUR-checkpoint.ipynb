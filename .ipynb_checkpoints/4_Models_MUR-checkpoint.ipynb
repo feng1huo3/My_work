{
 "cells": [
  {
   "cell_type": "code",
   "execution_count": 1,
   "id": "77e698c3",
   "metadata": {},
   "outputs": [],
   "source": [
    "import numpy as np\n",
    "import pandas as pd\n",
    "\n",
    "from sklearn.model_selection import train_test_split\n",
    "from sklearn.linear_model import Ridge, Lasso, RidgeCV, LassoCV\n",
    "from sklearn.preprocessing import StandardScaler \n",
    "from sklearn.metrics import mean_squared_error, mean_absolute_error, explained_variance_score"
   ]
  },
  {
   "cell_type": "code",
   "execution_count": 2,
   "id": "e9552a43",
   "metadata": {},
   "outputs": [],
   "source": [
    "#df.index = df.index.astype('int')"
   ]
  },
  {
   "cell_type": "code",
   "execution_count": 3,
   "id": "667135da",
   "metadata": {},
   "outputs": [
    {
     "data": {
      "text/html": [
       "<div>\n",
       "<style scoped>\n",
       "    .dataframe tbody tr th:only-of-type {\n",
       "        vertical-align: middle;\n",
       "    }\n",
       "\n",
       "    .dataframe tbody tr th {\n",
       "        vertical-align: top;\n",
       "    }\n",
       "\n",
       "    .dataframe thead th {\n",
       "        text-align: right;\n",
       "    }\n",
       "</style>\n",
       "<table border=\"1\" class=\"dataframe\">\n",
       "  <thead>\n",
       "    <tr style=\"text-align: right;\">\n",
       "      <th></th>\n",
       "      <th>T1</th>\n",
       "      <th>F1</th>\n",
       "      <th>F2</th>\n",
       "      <th>F3</th>\n",
       "      <th>F4</th>\n",
       "      <th>F5</th>\n",
       "      <th>F6</th>\n",
       "      <th>T2</th>\n",
       "      <th>T3</th>\n",
       "      <th>F7</th>\n",
       "      <th>F8</th>\n",
       "      <th>F9</th>\n",
       "      <th>F10</th>\n",
       "    </tr>\n",
       "  </thead>\n",
       "  <tbody>\n",
       "    <tr>\n",
       "      <th>668.0</th>\n",
       "      <td>2.452951</td>\n",
       "      <td>1910.204905</td>\n",
       "      <td>6.607548</td>\n",
       "      <td>96.354916</td>\n",
       "      <td>19.727737</td>\n",
       "      <td>306.017334</td>\n",
       "      <td>6.098845</td>\n",
       "      <td>74.976179</td>\n",
       "      <td>2201.923561</td>\n",
       "      <td>161.213976</td>\n",
       "      <td>1.0</td>\n",
       "      <td>8.985718</td>\n",
       "      <td>53.927701</td>\n",
       "    </tr>\n",
       "    <tr>\n",
       "      <th>411.0</th>\n",
       "      <td>1.273273</td>\n",
       "      <td>1915.642767</td>\n",
       "      <td>6.159758</td>\n",
       "      <td>93.290977</td>\n",
       "      <td>16.704108</td>\n",
       "      <td>212.833056</td>\n",
       "      <td>5.818450</td>\n",
       "      <td>71.838552</td>\n",
       "      <td>2478.484767</td>\n",
       "      <td>149.807602</td>\n",
       "      <td>0.0</td>\n",
       "      <td>4.996654</td>\n",
       "      <td>54.513716</td>\n",
       "    </tr>\n",
       "    <tr>\n",
       "      <th>538.0</th>\n",
       "      <td>0.857381</td>\n",
       "      <td>2038.898460</td>\n",
       "      <td>6.264702</td>\n",
       "      <td>105.128512</td>\n",
       "      <td>19.795821</td>\n",
       "      <td>218.491902</td>\n",
       "      <td>5.874891</td>\n",
       "      <td>72.406178</td>\n",
       "      <td>2313.676959</td>\n",
       "      <td>289.349833</td>\n",
       "      <td>0.0</td>\n",
       "      <td>10.740492</td>\n",
       "      <td>49.158838</td>\n",
       "    </tr>\n",
       "    <tr>\n",
       "      <th>988.0</th>\n",
       "      <td>3.106634</td>\n",
       "      <td>1884.734983</td>\n",
       "      <td>6.336061</td>\n",
       "      <td>160.433234</td>\n",
       "      <td>26.809241</td>\n",
       "      <td>354.325741</td>\n",
       "      <td>5.507743</td>\n",
       "      <td>72.812556</td>\n",
       "      <td>2135.779172</td>\n",
       "      <td>275.412755</td>\n",
       "      <td>1.0</td>\n",
       "      <td>6.544660</td>\n",
       "      <td>51.481758</td>\n",
       "    </tr>\n",
       "    <tr>\n",
       "      <th>85.0</th>\n",
       "      <td>4.457120</td>\n",
       "      <td>2017.204418</td>\n",
       "      <td>6.888765</td>\n",
       "      <td>99.675033</td>\n",
       "      <td>25.722449</td>\n",
       "      <td>292.101685</td>\n",
       "      <td>5.707974</td>\n",
       "      <td>73.782828</td>\n",
       "      <td>2546.351962</td>\n",
       "      <td>192.158908</td>\n",
       "      <td>0.0</td>\n",
       "      <td>4.764229</td>\n",
       "      <td>70.495158</td>\n",
       "    </tr>\n",
       "  </tbody>\n",
       "</table>\n",
       "</div>"
      ],
      "text/plain": [
       "             T1           F1        F2          F3         F4          F5  \\\n",
       "668.0  2.452951  1910.204905  6.607548   96.354916  19.727737  306.017334   \n",
       "411.0  1.273273  1915.642767  6.159758   93.290977  16.704108  212.833056   \n",
       "538.0  0.857381  2038.898460  6.264702  105.128512  19.795821  218.491902   \n",
       "988.0  3.106634  1884.734983  6.336061  160.433234  26.809241  354.325741   \n",
       "85.0   4.457120  2017.204418  6.888765   99.675033  25.722449  292.101685   \n",
       "\n",
       "             F6         T2           T3          F7   F8         F9        F10  \n",
       "668.0  6.098845  74.976179  2201.923561  161.213976  1.0   8.985718  53.927701  \n",
       "411.0  5.818450  71.838552  2478.484767  149.807602  0.0   4.996654  54.513716  \n",
       "538.0  5.874891  72.406178  2313.676959  289.349833  0.0  10.740492  49.158838  \n",
       "988.0  5.507743  72.812556  2135.779172  275.412755  1.0   6.544660  51.481758  \n",
       "85.0   5.707974  73.782828  2546.351962  192.158908  0.0   4.764229  70.495158  "
      ]
     },
     "execution_count": 3,
     "metadata": {},
     "output_type": "execute_result"
    }
   ],
   "source": [
    "df = pd.read_csv('data_model.csv', index_col = 0)\n",
    "df.sample(5)"
   ]
  },
  {
   "cell_type": "markdown",
   "id": "29d2cae4",
   "metadata": {},
   "source": [
    "1. Упражнения на всей выборке"
   ]
  },
  {
   "cell_type": "code",
   "execution_count": 4,
   "id": "8e346795",
   "metadata": {},
   "outputs": [
    {
     "data": {
      "text/plain": [
       "(700, 12)"
      ]
     },
     "execution_count": 4,
     "metadata": {},
     "output_type": "execute_result"
    }
   ],
   "source": [
    "X, y = df.drop(['T2'], axis = 1).values, df['T2'].values\n",
    "\n",
    "X_train, X_test, y_train, y_test = train_test_split(X, y, test_size = 0.3,random_state = 42)\n",
    "\n",
    "#res= clf._predict_proba_lr(X_test,Y_test)\n",
    "\n",
    "X_train.shape"
   ]
  },
  {
   "cell_type": "code",
   "execution_count": 5,
   "id": "ed878cdb",
   "metadata": {},
   "outputs": [],
   "source": [
    "scaler = StandardScaler()"
   ]
  },
  {
   "cell_type": "code",
   "execution_count": 6,
   "id": "0ddb551c",
   "metadata": {},
   "outputs": [],
   "source": [
    "X_train_scaled = scaler.fit_transform(X_train)\n",
    "X_test_scaled = scaler.transform(X_test)"
   ]
  },
  {
   "cell_type": "code",
   "execution_count": 7,
   "id": "eb664d35",
   "metadata": {},
   "outputs": [
    {
     "data": {
      "text/plain": [
       "(700, 12)"
      ]
     },
     "execution_count": 7,
     "metadata": {},
     "output_type": "execute_result"
    }
   ],
   "source": [
    "X_train_scaled.shape"
   ]
  },
  {
   "cell_type": "code",
   "execution_count": 8,
   "id": "869b4dd1",
   "metadata": {},
   "outputs": [
    {
     "data": {
      "text/plain": [
       "(300, 12)"
      ]
     },
     "execution_count": 8,
     "metadata": {},
     "output_type": "execute_result"
    }
   ],
   "source": [
    "X_test_scaled.shape"
   ]
  },
  {
   "cell_type": "code",
   "execution_count": 9,
   "id": "274c0ca1",
   "metadata": {},
   "outputs": [],
   "source": [
    "def train_validate_report(model, X_train_scaled, y_train, X_test_scaled, y_test, feature_names):\n",
    "    \n",
    "    model.fit(X_train_scaled, y_train)\n",
    "    \n",
    "    print('MAE:', mean_absolute_error(y_test, model.predict(X_test_scaled)))\n",
    "    print('MSE:', mean_squared_error(y_test, model.predict(X_test_scaled)))\n",
    "    print('RMSE:', np.sqrt(mean_squared_error(y_test, model.predict(X_test_scaled))))\n",
    "    \n",
    "    print(pd.DataFrame(model.coef_, feature_names, columns = ['coef']).sort_values(by = 'coef', ascending = False))"
   ]
  },
  {
   "cell_type": "code",
   "execution_count": 10,
   "id": "afe7df67",
   "metadata": {},
   "outputs": [],
   "source": [
    "lasso = Lasso(random_state = 17)\n",
    "ridge = Ridge(random_state = 17)\n",
    "lasso_cv = LassoCV(random_state = 17)\n",
    "ridge_cv = RidgeCV()"
   ]
  },
  {
   "cell_type": "code",
   "execution_count": 11,
   "id": "7a674889",
   "metadata": {},
   "outputs": [
    {
     "name": "stdout",
     "output_type": "stream",
     "text": [
      "MAE: 2.48753392905233\n",
      "MSE: 9.795852789184766\n",
      "RMSE: 3.1298327094566516\n",
      "    coef\n",
      "T1  -0.0\n",
      "F1  -0.0\n",
      "F2   0.0\n",
      "F3  -0.0\n",
      "F4   0.0\n",
      "F5   0.0\n",
      "F6   0.0\n",
      "T2  -0.0\n",
      "T3   0.0\n",
      "F7   0.0\n",
      "F8  -0.0\n",
      "F9   0.0\n"
     ]
    }
   ],
   "source": [
    "train_validate_report(lasso, X_train_scaled, y_train, X_test_scaled, y_test, feature_names = df.columns[:-1])"
   ]
  },
  {
   "cell_type": "code",
   "execution_count": 12,
   "id": "d8c4e9a1",
   "metadata": {},
   "outputs": [
    {
     "name": "stdout",
     "output_type": "stream",
     "text": [
      "MAE: 2.546202843552639\n",
      "MSE: 10.02153840291383\n",
      "RMSE: 3.165681348922192\n",
      "        coef\n",
      "F5  0.188343\n",
      "F9  0.165729\n",
      "F4  0.146320\n",
      "F7  0.108069\n",
      "F2  0.102731\n",
      "F6  0.085467\n",
      "T3  0.081850\n",
      "T1 -0.047325\n",
      "F8 -0.088611\n",
      "T2 -0.094883\n",
      "F3 -0.250175\n",
      "F1 -0.266187\n"
     ]
    }
   ],
   "source": [
    "train_validate_report(ridge, X_train_scaled, y_train, X_test_scaled, y_test, feature_names = df.columns[:-1])"
   ]
  },
  {
   "cell_type": "code",
   "execution_count": 13,
   "id": "3347c47b",
   "metadata": {},
   "outputs": [
    {
     "name": "stdout",
     "output_type": "stream",
     "text": [
      "MAE: 2.48753392905233\n",
      "MSE: 9.795852789184766\n",
      "RMSE: 3.1298327094566516\n",
      "            coef\n",
      "T1 -0.000000e+00\n",
      "F2  0.000000e+00\n",
      "F3 -0.000000e+00\n",
      "F4  0.000000e+00\n",
      "F5  0.000000e+00\n",
      "F6  0.000000e+00\n",
      "T2 -0.000000e+00\n",
      "T3  0.000000e+00\n",
      "F7  0.000000e+00\n",
      "F8 -0.000000e+00\n",
      "F9  0.000000e+00\n",
      "F1 -4.060244e-17\n"
     ]
    }
   ],
   "source": [
    "train_validate_report(lasso_cv, X_train_scaled, y_train, X_test_scaled, y_test, feature_names = df.columns[:-1])"
   ]
  },
  {
   "cell_type": "code",
   "execution_count": 14,
   "id": "732765fa",
   "metadata": {},
   "outputs": [
    {
     "name": "stdout",
     "output_type": "stream",
     "text": [
      "MAE: 2.5449691960009964\n",
      "MSE: 10.014862362231069\n",
      "RMSE: 3.1646267334760143\n",
      "        coef\n",
      "F5  0.185782\n",
      "F9  0.162930\n",
      "F4  0.144362\n",
      "F7  0.107279\n",
      "F2  0.101667\n",
      "F6  0.084251\n",
      "T3  0.080909\n",
      "T1 -0.046447\n",
      "F8 -0.087189\n",
      "T2 -0.092972\n",
      "F3 -0.246248\n",
      "F1 -0.262363\n"
     ]
    }
   ],
   "source": [
    "train_validate_report(ridge_cv, X_train_scaled, y_train, X_test_scaled, y_test, feature_names = df.columns[:-1])"
   ]
  },
  {
   "cell_type": "markdown",
   "id": "d41788f5",
   "metadata": {},
   "source": [
    "2. На важных признаках"
   ]
  },
  {
   "cell_type": "code",
   "execution_count": 33,
   "id": "89bf68ca",
   "metadata": {},
   "outputs": [
    {
     "data": {
      "text/plain": [
       "(700, 7)"
      ]
     },
     "execution_count": 33,
     "metadata": {},
     "output_type": "execute_result"
    }
   ],
   "source": [
    "X, y = df.drop(['T2', 'F8', 'T1', 'T3', 'F2', 'F10'], axis = 1).values, df['T2'].values\n",
    "\n",
    "X_train, X_test, y_train, y_test = train_test_split(X, y, test_size = 0.3,random_state = 42)\n",
    "\n",
    "#res= clf._predict_proba_lr(X_test,Y_test)\n",
    "\n",
    "X_train.shape"
   ]
  },
  {
   "cell_type": "code",
   "execution_count": 34,
   "id": "7656a301",
   "metadata": {},
   "outputs": [],
   "source": [
    "X_train_scaled = scaler.fit_transform(X_train)\n",
    "X_test_scaled = scaler.transform(X_test)"
   ]
  },
  {
   "cell_type": "code",
   "execution_count": 35,
   "id": "5b7f7b72",
   "metadata": {},
   "outputs": [],
   "source": [
    "def train_validate_report(model, X_train_scaled, y_train, X_test_scaled, y_test, feature_names):\n",
    "    \n",
    "    model.fit(X_train_scaled, y_train)\n",
    "    \n",
    "    print('MAE:', mean_absolute_error(y_test, model.predict(X_test_scaled)))\n",
    "    print('MSE:', mean_squared_error(y_test, model.predict(X_test_scaled)))\n",
    "    print('RMSE:', np.sqrt(mean_squared_error(y_test, model.predict(X_test_scaled))))\n",
    "    \n",
    "    print(pd.DataFrame(model.coef_, feature_names, columns = ['coef']).sort_values(by = 'coef', ascending = False))"
   ]
  },
  {
   "cell_type": "code",
   "execution_count": 36,
   "id": "847be13a",
   "metadata": {},
   "outputs": [
    {
     "name": "stdout",
     "output_type": "stream",
     "text": [
      "MAE: 2.5223434603308914\n",
      "MSE: 9.908531029832895\n",
      "RMSE: 3.147781922216483\n",
      "        coef\n",
      "F3  0.187369\n",
      "F2  0.140532\n",
      "F4  0.089511\n",
      "F5  0.074440\n",
      "F6 -0.080634\n",
      "F1 -0.228844\n",
      "T1 -0.245288\n"
     ]
    }
   ],
   "source": [
    "train_validate_report(ridge_cv, X_train_scaled, y_train, X_test_scaled, y_test, feature_names = df.columns[:-6])"
   ]
  },
  {
   "cell_type": "code",
   "execution_count": null,
   "id": "7c01718a",
   "metadata": {},
   "outputs": [],
   "source": []
  }
 ],
 "metadata": {
  "kernelspec": {
   "display_name": "Python 3 (ipykernel)",
   "language": "python",
   "name": "python3"
  },
  "language_info": {
   "codemirror_mode": {
    "name": "ipython",
    "version": 3
   },
   "file_extension": ".py",
   "mimetype": "text/x-python",
   "name": "python",
   "nbconvert_exporter": "python",
   "pygments_lexer": "ipython3",
   "version": "3.9.7"
  }
 },
 "nbformat": 4,
 "nbformat_minor": 5
}
