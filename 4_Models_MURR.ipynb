{
 "cells": [
  {
   "cell_type": "code",
   "execution_count": 185,
   "id": "77e698c3",
   "metadata": {},
   "outputs": [],
   "source": [
    "import numpy as np\n",
    "import pandas as pd\n",
    "\n",
    "from sklearn.model_selection import train_test_split\n",
    "from sklearn.linear_model import Ridge, Lasso, RidgeCV, LassoCV\n",
    "from sklearn.preprocessing import StandardScaler \n",
    "from sklearn.metrics import mean_squared_error, mean_absolute_error, explained_variance_score"
   ]
  },
  {
   "cell_type": "code",
   "execution_count": 186,
   "id": "e9552a43",
   "metadata": {},
   "outputs": [],
   "source": [
    "#df.index = df.index.astype('int')"
   ]
  },
  {
   "cell_type": "code",
   "execution_count": 187,
   "id": "667135da",
   "metadata": {},
   "outputs": [
    {
     "data": {
      "text/html": [
       "<div>\n",
       "<style scoped>\n",
       "    .dataframe tbody tr th:only-of-type {\n",
       "        vertical-align: middle;\n",
       "    }\n",
       "\n",
       "    .dataframe tbody tr th {\n",
       "        vertical-align: top;\n",
       "    }\n",
       "\n",
       "    .dataframe thead th {\n",
       "        text-align: right;\n",
       "    }\n",
       "</style>\n",
       "<table border=\"1\" class=\"dataframe\">\n",
       "  <thead>\n",
       "    <tr style=\"text-align: right;\">\n",
       "      <th></th>\n",
       "      <th>T1</th>\n",
       "      <th>F1</th>\n",
       "      <th>F2</th>\n",
       "      <th>F3</th>\n",
       "      <th>F4</th>\n",
       "      <th>F5</th>\n",
       "      <th>F6</th>\n",
       "      <th>T2</th>\n",
       "      <th>T3</th>\n",
       "      <th>F7</th>\n",
       "      <th>F8</th>\n",
       "      <th>F9</th>\n",
       "      <th>F10</th>\n",
       "    </tr>\n",
       "  </thead>\n",
       "  <tbody>\n",
       "    <tr>\n",
       "      <th>69.0</th>\n",
       "      <td>3.120022</td>\n",
       "      <td>2042.280283</td>\n",
       "      <td>600.769621</td>\n",
       "      <td>88.413013</td>\n",
       "      <td>23.085422</td>\n",
       "      <td>280.643182</td>\n",
       "      <td>324.279402</td>\n",
       "      <td>69.526015</td>\n",
       "      <td>2164.388936</td>\n",
       "      <td>138.224721</td>\n",
       "      <td>0.0</td>\n",
       "      <td>4.795862</td>\n",
       "      <td>37.404762</td>\n",
       "    </tr>\n",
       "    <tr>\n",
       "      <th>847.0</th>\n",
       "      <td>1.047844</td>\n",
       "      <td>1966.142448</td>\n",
       "      <td>656.251716</td>\n",
       "      <td>63.652302</td>\n",
       "      <td>26.516469</td>\n",
       "      <td>282.836264</td>\n",
       "      <td>824.488816</td>\n",
       "      <td>70.119479</td>\n",
       "      <td>2124.033500</td>\n",
       "      <td>262.349622</td>\n",
       "      <td>1.0</td>\n",
       "      <td>12.656475</td>\n",
       "      <td>59.474331</td>\n",
       "    </tr>\n",
       "    <tr>\n",
       "      <th>120.0</th>\n",
       "      <td>4.379430</td>\n",
       "      <td>1899.029321</td>\n",
       "      <td>329.386054</td>\n",
       "      <td>79.833232</td>\n",
       "      <td>20.063223</td>\n",
       "      <td>308.076725</td>\n",
       "      <td>34.547697</td>\n",
       "      <td>74.519119</td>\n",
       "      <td>1994.674603</td>\n",
       "      <td>237.571116</td>\n",
       "      <td>0.0</td>\n",
       "      <td>7.567723</td>\n",
       "      <td>57.061357</td>\n",
       "    </tr>\n",
       "    <tr>\n",
       "      <th>1016.0</th>\n",
       "      <td>3.745862</td>\n",
       "      <td>1914.629424</td>\n",
       "      <td>680.683701</td>\n",
       "      <td>110.979100</td>\n",
       "      <td>25.922635</td>\n",
       "      <td>309.796388</td>\n",
       "      <td>628.364550</td>\n",
       "      <td>76.030555</td>\n",
       "      <td>2466.925422</td>\n",
       "      <td>152.184720</td>\n",
       "      <td>1.0</td>\n",
       "      <td>8.057020</td>\n",
       "      <td>47.067229</td>\n",
       "    </tr>\n",
       "    <tr>\n",
       "      <th>116.0</th>\n",
       "      <td>3.660787</td>\n",
       "      <td>2125.206209</td>\n",
       "      <td>856.379707</td>\n",
       "      <td>120.193115</td>\n",
       "      <td>21.546764</td>\n",
       "      <td>224.657476</td>\n",
       "      <td>270.457644</td>\n",
       "      <td>69.702994</td>\n",
       "      <td>2953.366748</td>\n",
       "      <td>132.056503</td>\n",
       "      <td>0.0</td>\n",
       "      <td>5.680511</td>\n",
       "      <td>70.744709</td>\n",
       "    </tr>\n",
       "  </tbody>\n",
       "</table>\n",
       "</div>"
      ],
      "text/plain": [
       "              T1           F1          F2          F3         F4          F5  \\\n",
       "69.0    3.120022  2042.280283  600.769621   88.413013  23.085422  280.643182   \n",
       "847.0   1.047844  1966.142448  656.251716   63.652302  26.516469  282.836264   \n",
       "120.0   4.379430  1899.029321  329.386054   79.833232  20.063223  308.076725   \n",
       "1016.0  3.745862  1914.629424  680.683701  110.979100  25.922635  309.796388   \n",
       "116.0   3.660787  2125.206209  856.379707  120.193115  21.546764  224.657476   \n",
       "\n",
       "                F6         T2           T3          F7   F8         F9  \\\n",
       "69.0    324.279402  69.526015  2164.388936  138.224721  0.0   4.795862   \n",
       "847.0   824.488816  70.119479  2124.033500  262.349622  1.0  12.656475   \n",
       "120.0    34.547697  74.519119  1994.674603  237.571116  0.0   7.567723   \n",
       "1016.0  628.364550  76.030555  2466.925422  152.184720  1.0   8.057020   \n",
       "116.0   270.457644  69.702994  2953.366748  132.056503  0.0   5.680511   \n",
       "\n",
       "              F10  \n",
       "69.0    37.404762  \n",
       "847.0   59.474331  \n",
       "120.0   57.061357  \n",
       "1016.0  47.067229  \n",
       "116.0   70.744709  "
      ]
     },
     "execution_count": 187,
     "metadata": {},
     "output_type": "execute_result"
    }
   ],
   "source": [
    "df = pd.read_csv('data_model.csv', index_col = 0)\n",
    "df.sample(5)"
   ]
  },
  {
   "cell_type": "markdown",
   "id": "29d2cae4",
   "metadata": {},
   "source": [
    "1. Упражнения на всей выборке"
   ]
  },
  {
   "cell_type": "code",
   "execution_count": 137,
   "id": "8e346795",
   "metadata": {},
   "outputs": [
    {
     "data": {
      "text/plain": [
       "(700, 11)"
      ]
     },
     "execution_count": 137,
     "metadata": {},
     "output_type": "execute_result"
    }
   ],
   "source": [
    "X, y = df.drop(['T2', 'F8'], axis = 1).values, df['T2'].values\n",
    "\n",
    "X_train, X_test, y_train, y_test = train_test_split(X, y, test_size = 0.3,random_state = 42)\n",
    "\n",
    "#res= clf._predict_proba_lr(X_test,Y_test)\n",
    "\n",
    "X_train.shape"
   ]
  },
  {
   "cell_type": "code",
   "execution_count": 138,
   "id": "ed878cdb",
   "metadata": {},
   "outputs": [],
   "source": [
    "scaler = StandardScaler()"
   ]
  },
  {
   "cell_type": "code",
   "execution_count": 139,
   "id": "0ddb551c",
   "metadata": {},
   "outputs": [],
   "source": [
    "X_train_scaled = scaler.fit_transform(X_train)\n",
    "X_test_scaled = scaler.transform(X_test)"
   ]
  },
  {
   "cell_type": "code",
   "execution_count": 140,
   "id": "eb664d35",
   "metadata": {},
   "outputs": [
    {
     "data": {
      "text/plain": [
       "(700, 11)"
      ]
     },
     "execution_count": 140,
     "metadata": {},
     "output_type": "execute_result"
    }
   ],
   "source": [
    "X_train_scaled.shape"
   ]
  },
  {
   "cell_type": "code",
   "execution_count": 141,
   "id": "869b4dd1",
   "metadata": {},
   "outputs": [
    {
     "data": {
      "text/plain": [
       "(300, 11)"
      ]
     },
     "execution_count": 141,
     "metadata": {},
     "output_type": "execute_result"
    }
   ],
   "source": [
    "X_test_scaled.shape"
   ]
  },
  {
   "cell_type": "code",
   "execution_count": 144,
   "id": "274c0ca1",
   "metadata": {},
   "outputs": [],
   "source": [
    "def train_validate_report(model, X_train_scaled, y_train, X_test_scaled, y_test, feature_names):\n",
    "    \n",
    "    model.fit(X_train_scaled, y_train)\n",
    "    \n",
    "    print('MAE:', mean_absolute_error(y_test, model.predict(X_test_scaled)))\n",
    "    print('MSE:', mean_squared_error(y_test, model.predict(X_test_scaled)))\n",
    "    print('RMSE:', np.sqrt(mean_squared_error(y_test, model.predict(X_test_scaled))))\n",
    "    \n",
    "    print(pd.DataFrame(model.coef_, feature_names, columns = ['coef']).sort_values(by = 'coef', ascending = False))"
   ]
  },
  {
   "cell_type": "code",
   "execution_count": 145,
   "id": "afe7df67",
   "metadata": {},
   "outputs": [],
   "source": [
    "lasso = Lasso(random_state = 17)\n",
    "ridge = Ridge(random_state = 17)\n",
    "lasso_cv = LassoCV(random_state = 17)\n",
    "ridge_cv = RidgeCV()"
   ]
  },
  {
   "cell_type": "code",
   "execution_count": 146,
   "id": "7a674889",
   "metadata": {},
   "outputs": [
    {
     "name": "stdout",
     "output_type": "stream",
     "text": [
      "MAE: 2.48753392905233\n",
      "MSE: 9.795852789184766\n",
      "RMSE: 3.1298327094566516\n",
      "    coef\n",
      "T1  -0.0\n",
      "F1  -0.0\n",
      "F2   0.0\n",
      "F3  -0.0\n",
      "F4   0.0\n",
      "F5   0.0\n",
      "F6   0.0\n",
      "T2  -0.0\n",
      "T3   0.0\n",
      "F7  -0.0\n",
      "F8   0.0\n"
     ]
    }
   ],
   "source": [
    "train_validate_report(lasso, X_train_scaled, y_train, X_test_scaled, y_test, feature_names = df.columns[:-2])"
   ]
  },
  {
   "cell_type": "code",
   "execution_count": 147,
   "id": "d8c4e9a1",
   "metadata": {},
   "outputs": [
    {
     "name": "stdout",
     "output_type": "stream",
     "text": [
      "MAE: 2.5397187674448998\n",
      "MSE: 9.982885207684015\n",
      "RMSE: 3.1595704150539223\n",
      "        coef\n",
      "F5  0.193070\n",
      "F8  0.177161\n",
      "F4  0.154569\n",
      "T3  0.080399\n",
      "F2  0.070457\n",
      "F6  0.050609\n",
      "T1 -0.050995\n",
      "F7 -0.089641\n",
      "T2 -0.093018\n",
      "F3 -0.247469\n",
      "F1 -0.272758\n"
     ]
    }
   ],
   "source": [
    "train_validate_report(ridge, X_train_scaled, y_train, X_test_scaled, y_test, feature_names = df.columns[:-2])"
   ]
  },
  {
   "cell_type": "code",
   "execution_count": 148,
   "id": "3347c47b",
   "metadata": {},
   "outputs": [
    {
     "name": "stdout",
     "output_type": "stream",
     "text": [
      "MAE: 2.4986573193164485\n",
      "MSE: 9.854880448632043\n",
      "RMSE: 3.139248389126296\n",
      "        coef\n",
      "F5  0.018813\n",
      "T1 -0.000000\n",
      "F2  0.000000\n",
      "F4  0.000000\n",
      "F6  0.000000\n",
      "T2 -0.000000\n",
      "T3  0.000000\n",
      "F7 -0.000000\n",
      "F8  0.000000\n",
      "F3 -0.041016\n",
      "F1 -0.085611\n"
     ]
    }
   ],
   "source": [
    "train_validate_report(lasso_cv, X_train_scaled, y_train, X_test_scaled, y_test, feature_names = df.columns[:-2])"
   ]
  },
  {
   "cell_type": "code",
   "execution_count": 149,
   "id": "732765fa",
   "metadata": {},
   "outputs": [
    {
     "name": "stdout",
     "output_type": "stream",
     "text": [
      "MAE: 2.5386124244104926\n",
      "MSE: 9.976550440494263\n",
      "RMSE: 3.1585677831090253\n",
      "        coef\n",
      "F5  0.190394\n",
      "F8  0.174091\n",
      "F4  0.152425\n",
      "T3  0.079486\n",
      "F2  0.069748\n",
      "F6  0.049578\n",
      "T1 -0.050046\n",
      "F7 -0.088185\n",
      "T2 -0.091147\n",
      "F3 -0.243582\n",
      "F1 -0.268778\n"
     ]
    }
   ],
   "source": [
    "train_validate_report(ridge_cv, X_train_scaled, y_train, X_test_scaled, y_test, feature_names = df.columns[:-2])"
   ]
  },
  {
   "cell_type": "markdown",
   "id": "d41788f5",
   "metadata": {},
   "source": [
    "2. На важных признаках"
   ]
  },
  {
   "cell_type": "code",
   "execution_count": 150,
   "id": "89bf68ca",
   "metadata": {},
   "outputs": [
    {
     "data": {
      "text/plain": [
       "(700, 5)"
      ]
     },
     "execution_count": 150,
     "metadata": {},
     "output_type": "execute_result"
    }
   ],
   "source": [
    "df_1 = df.drop(['T2', 'F1', 'F4', 'F5', 'F6', 'F7', 'F8', 'F10'], axis = 1)\n",
    "X, y = df_1.values, df['T2'].values\n",
    "\n",
    "X_train, X_test, y_train, y_test = train_test_split(X, y, test_size = 0.3,random_state = 42)\n",
    "\n",
    "#res= clf._predict_proba_lr(X_test,Y_test)\n",
    "\n",
    "X_train.shape"
   ]
  },
  {
   "cell_type": "code",
   "execution_count": 151,
   "id": "7656a301",
   "metadata": {},
   "outputs": [],
   "source": [
    "X_train_scaled = scaler.fit_transform(X_train)\n",
    "X_test_scaled = scaler.transform(X_test)"
   ]
  },
  {
   "cell_type": "code",
   "execution_count": 152,
   "id": "0de67ea6",
   "metadata": {},
   "outputs": [],
   "source": [
    "def train_validate_report(model, X_train_scaled, y_train, X_test_scaled, y_test, feature_names):\n",
    "    \n",
    "    model.fit(X_train_scaled, y_train)\n",
    "    \n",
    "    print('MAE:', mean_absolute_error(y_test, model.predict(X_test_scaled)))\n",
    "    print('MSE:', mean_squared_error(y_test, model.predict(X_test_scaled)))\n",
    "    print('RMSE:', np.sqrt(mean_squared_error(y_test, model.predict(X_test_scaled))))\n",
    "    \n",
    "    print(pd.DataFrame(model.coef_, feature_names, columns = ['coef']).sort_values(by = 'coef', ascending = False))"
   ]
  },
  {
   "cell_type": "code",
   "execution_count": 154,
   "id": "847be13a",
   "metadata": {},
   "outputs": [
    {
     "name": "stdout",
     "output_type": "stream",
     "text": [
      "MAE: 2.4997155480865203\n",
      "MSE: 9.766813443813003\n",
      "RMSE: 3.1251901452252473\n",
      "        coef\n",
      "F2  0.085454\n",
      "T1 -0.026483\n",
      "F9 -0.071299\n",
      "T3 -0.074269\n",
      "F3 -0.204957\n"
     ]
    }
   ],
   "source": [
    "train_validate_report(ridge_cv, X_train_scaled, y_train, X_test_scaled, y_test, feature_names = df_1.columns[:])"
   ]
  },
  {
   "cell_type": "markdown",
   "id": "323d11c2",
   "metadata": {},
   "source": [
    "Второй вариант"
   ]
  },
  {
   "cell_type": "code",
   "execution_count": 188,
   "id": "d2c898e0",
   "metadata": {},
   "outputs": [
    {
     "data": {
      "text/plain": [
       "(700, 4)"
      ]
     },
     "execution_count": 188,
     "metadata": {},
     "output_type": "execute_result"
    }
   ],
   "source": [
    "df_2 = df.drop(['T2', 'F1', 'F3', 'F4', 'F5', 'F6', 'F7', 'F8', 'F10'], axis = 1)\n",
    "X, y = df_2.values, df['T2'].values\n",
    "\n",
    "X_train, X_test, y_train, y_test = train_test_split(X, y, test_size = 0.3,random_state = 42)\n",
    "\n",
    "#res= clf._predict_proba_lr(X_test,Y_test)\n",
    "\n",
    "X_train.shape"
   ]
  },
  {
   "cell_type": "code",
   "execution_count": 192,
   "id": "835ebbef",
   "metadata": {},
   "outputs": [],
   "source": [
    "X_train_scaled = scaler.fit_transform(X_train)\n",
    "X_test_scaled = scaler.transform(X_test)"
   ]
  },
  {
   "cell_type": "code",
   "execution_count": 193,
   "id": "a1773d04",
   "metadata": {},
   "outputs": [],
   "source": [
    "def train_validate_report(model, X_train_scaled, y_train, X_test_scaled, y_test, feature_names):\n",
    "    \n",
    "    model.fit(X_train_scaled, y_train)\n",
    "    \n",
    "    print('MAE:', mean_absolute_error(y_test, model.predict(X_test_scaled)))\n",
    "    print('MSE:', mean_squared_error(y_test, model.predict(X_test_scaled)))\n",
    "    print('RMSE:', np.sqrt(mean_squared_error(y_test, model.predict(X_test_scaled))))\n",
    "    \n",
    "    print(pd.DataFrame(model.coef_, feature_names, columns = ['coef']).sort_values(by = 'coef', ascending = False))"
   ]
  },
  {
   "cell_type": "code",
   "execution_count": 195,
   "id": "cea4b7d0",
   "metadata": {},
   "outputs": [
    {
     "name": "stdout",
     "output_type": "stream",
     "text": [
      "MAE: 2.494562642301039\n",
      "MSE: 9.799681642766378\n",
      "RMSE: 3.1304443203427814\n",
      "        coef\n",
      "F2  0.079329\n",
      "T1 -0.027006\n",
      "T3 -0.052587\n",
      "F9 -0.070446\n"
     ]
    }
   ],
   "source": [
    "train_validate_report(ridge_cv, X_train_scaled, y_train, X_test_scaled, y_test, feature_names = df_2.columns[:])"
   ]
  },
  {
   "cell_type": "code",
   "execution_count": null,
   "id": "267b49c2",
   "metadata": {},
   "outputs": [],
   "source": []
  }
 ],
 "metadata": {
  "kernelspec": {
   "display_name": "Python 3 (ipykernel)",
   "language": "python",
   "name": "python3"
  },
  "language_info": {
   "codemirror_mode": {
    "name": "ipython",
    "version": 3
   },
   "file_extension": ".py",
   "mimetype": "text/x-python",
   "name": "python",
   "nbconvert_exporter": "python",
   "pygments_lexer": "ipython3",
   "version": "3.9.7"
  }
 },
 "nbformat": 4,
 "nbformat_minor": 5
}
