{
 "cells": [
  {
   "cell_type": "code",
   "execution_count": 82,
   "id": "77e698c3",
   "metadata": {},
   "outputs": [],
   "source": [
    "import numpy as np\n",
    "import pandas as pd\n",
    "\n",
    "from sklearn.model_selection import train_test_split\n",
    "from sklearn.linear_model import Ridge, Lasso, RidgeCV, LassoCV\n",
    "from sklearn.preprocessing import StandardScaler \n",
    "from sklearn.metrics import mean_squared_error, mean_absolute_error, explained_variance_score"
   ]
  },
  {
   "cell_type": "code",
   "execution_count": 83,
   "id": "e9552a43",
   "metadata": {},
   "outputs": [],
   "source": [
    "#df.index = df.index.astype('int')"
   ]
  },
  {
   "cell_type": "code",
   "execution_count": 84,
   "id": "667135da",
   "metadata": {},
   "outputs": [
    {
     "data": {
      "text/html": [
       "<div>\n",
       "<style scoped>\n",
       "    .dataframe tbody tr th:only-of-type {\n",
       "        vertical-align: middle;\n",
       "    }\n",
       "\n",
       "    .dataframe tbody tr th {\n",
       "        vertical-align: top;\n",
       "    }\n",
       "\n",
       "    .dataframe thead th {\n",
       "        text-align: right;\n",
       "    }\n",
       "</style>\n",
       "<table border=\"1\" class=\"dataframe\">\n",
       "  <thead>\n",
       "    <tr style=\"text-align: right;\">\n",
       "      <th></th>\n",
       "      <th>T1</th>\n",
       "      <th>F1</th>\n",
       "      <th>F2</th>\n",
       "      <th>F3</th>\n",
       "      <th>F4</th>\n",
       "      <th>F5</th>\n",
       "      <th>F6</th>\n",
       "      <th>T2</th>\n",
       "      <th>T3</th>\n",
       "      <th>F7</th>\n",
       "      <th>F9</th>\n",
       "      <th>F10</th>\n",
       "    </tr>\n",
       "  </thead>\n",
       "  <tbody>\n",
       "    <tr>\n",
       "      <th>731.0</th>\n",
       "      <td>1.321616</td>\n",
       "      <td>1915.201632</td>\n",
       "      <td>994.009249</td>\n",
       "      <td>108.137608</td>\n",
       "      <td>22.391299</td>\n",
       "      <td>219.133791</td>\n",
       "      <td>494.872471</td>\n",
       "      <td>66.482383</td>\n",
       "      <td>2431.770300</td>\n",
       "      <td>93.822161</td>\n",
       "      <td>5.226207</td>\n",
       "      <td>51.915444</td>\n",
       "    </tr>\n",
       "    <tr>\n",
       "      <th>282.0</th>\n",
       "      <td>2.483168</td>\n",
       "      <td>1949.480232</td>\n",
       "      <td>610.664035</td>\n",
       "      <td>99.790787</td>\n",
       "      <td>22.070878</td>\n",
       "      <td>364.341247</td>\n",
       "      <td>696.886542</td>\n",
       "      <td>73.498093</td>\n",
       "      <td>3052.430194</td>\n",
       "      <td>313.982345</td>\n",
       "      <td>5.301232</td>\n",
       "      <td>51.273989</td>\n",
       "    </tr>\n",
       "    <tr>\n",
       "      <th>987.0</th>\n",
       "      <td>4.397730</td>\n",
       "      <td>1991.707864</td>\n",
       "      <td>962.135964</td>\n",
       "      <td>106.179379</td>\n",
       "      <td>23.404661</td>\n",
       "      <td>355.176984</td>\n",
       "      <td>531.152675</td>\n",
       "      <td>75.101888</td>\n",
       "      <td>3579.265523</td>\n",
       "      <td>132.360669</td>\n",
       "      <td>9.330933</td>\n",
       "      <td>56.349177</td>\n",
       "    </tr>\n",
       "    <tr>\n",
       "      <th>571.0</th>\n",
       "      <td>2.884592</td>\n",
       "      <td>1978.408952</td>\n",
       "      <td>1200.961642</td>\n",
       "      <td>160.177823</td>\n",
       "      <td>22.220097</td>\n",
       "      <td>320.850106</td>\n",
       "      <td>407.546925</td>\n",
       "      <td>71.543911</td>\n",
       "      <td>2587.231985</td>\n",
       "      <td>165.019036</td>\n",
       "      <td>3.929925</td>\n",
       "      <td>51.783868</td>\n",
       "    </tr>\n",
       "    <tr>\n",
       "      <th>273.0</th>\n",
       "      <td>1.704097</td>\n",
       "      <td>1981.385336</td>\n",
       "      <td>948.476050</td>\n",
       "      <td>101.388796</td>\n",
       "      <td>17.597990</td>\n",
       "      <td>254.051211</td>\n",
       "      <td>798.628523</td>\n",
       "      <td>73.833984</td>\n",
       "      <td>2099.729904</td>\n",
       "      <td>134.477174</td>\n",
       "      <td>10.046999</td>\n",
       "      <td>46.842509</td>\n",
       "    </tr>\n",
       "  </tbody>\n",
       "</table>\n",
       "</div>"
      ],
      "text/plain": [
       "             T1           F1           F2          F3         F4          F5  \\\n",
       "731.0  1.321616  1915.201632   994.009249  108.137608  22.391299  219.133791   \n",
       "282.0  2.483168  1949.480232   610.664035   99.790787  22.070878  364.341247   \n",
       "987.0  4.397730  1991.707864   962.135964  106.179379  23.404661  355.176984   \n",
       "571.0  2.884592  1978.408952  1200.961642  160.177823  22.220097  320.850106   \n",
       "273.0  1.704097  1981.385336   948.476050  101.388796  17.597990  254.051211   \n",
       "\n",
       "               F6         T2           T3          F7         F9        F10  \n",
       "731.0  494.872471  66.482383  2431.770300   93.822161   5.226207  51.915444  \n",
       "282.0  696.886542  73.498093  3052.430194  313.982345   5.301232  51.273989  \n",
       "987.0  531.152675  75.101888  3579.265523  132.360669   9.330933  56.349177  \n",
       "571.0  407.546925  71.543911  2587.231985  165.019036   3.929925  51.783868  \n",
       "273.0  798.628523  73.833984  2099.729904  134.477174  10.046999  46.842509  "
      ]
     },
     "execution_count": 84,
     "metadata": {},
     "output_type": "execute_result"
    }
   ],
   "source": [
    "df = pd.read_csv('data_model.csv', index_col = 0)\n",
    "df.sample(5)"
   ]
  },
  {
   "cell_type": "markdown",
   "id": "29d2cae4",
   "metadata": {},
   "source": [
    "1. Упражнения на всей выборке"
   ]
  },
  {
   "cell_type": "code",
   "execution_count": 85,
   "id": "8e346795",
   "metadata": {},
   "outputs": [
    {
     "data": {
      "text/plain": [
       "(655, 11)"
      ]
     },
     "execution_count": 85,
     "metadata": {},
     "output_type": "execute_result"
    }
   ],
   "source": [
    "X, y = df.drop(['T2'], axis = 1).values, df['T2'].values\n",
    "\n",
    "X_train, X_test, y_train, y_test = train_test_split(X, y, test_size = 0.3,random_state = 42)\n",
    "\n",
    "#res= clf._predict_proba_lr(X_test,Y_test)\n",
    "\n",
    "X_train.shape"
   ]
  },
  {
   "cell_type": "code",
   "execution_count": 86,
   "id": "ed878cdb",
   "metadata": {},
   "outputs": [],
   "source": [
    "scaler = StandardScaler()"
   ]
  },
  {
   "cell_type": "code",
   "execution_count": 87,
   "id": "0ddb551c",
   "metadata": {},
   "outputs": [],
   "source": [
    "X_train_scaled = scaler.fit_transform(X_train)\n",
    "X_test_scaled = scaler.transform(X_test)"
   ]
  },
  {
   "cell_type": "code",
   "execution_count": 88,
   "id": "eb664d35",
   "metadata": {},
   "outputs": [
    {
     "data": {
      "text/plain": [
       "(655, 11)"
      ]
     },
     "execution_count": 88,
     "metadata": {},
     "output_type": "execute_result"
    }
   ],
   "source": [
    "X_train_scaled.shape"
   ]
  },
  {
   "cell_type": "code",
   "execution_count": 89,
   "id": "869b4dd1",
   "metadata": {},
   "outputs": [
    {
     "data": {
      "text/plain": [
       "(281, 11)"
      ]
     },
     "execution_count": 89,
     "metadata": {},
     "output_type": "execute_result"
    }
   ],
   "source": [
    "X_test_scaled.shape"
   ]
  },
  {
   "cell_type": "code",
   "execution_count": 92,
   "id": "274c0ca1",
   "metadata": {},
   "outputs": [],
   "source": [
    "def train_validate_report(model, X_train_scaled, y_train, X_test_scaled, y_test, feature_names):\n",
    "    \n",
    "    model.fit(X_train_scaled, y_train)\n",
    "    \n",
    "    print('MAE:', mean_absolute_error(y_test, model.predict(X_test_scaled)))\n",
    "    print('MSE:', mean_squared_error(y_test, model.predict(X_test_scaled)))\n",
    "    print('RMSE:', np.sqrt(mean_squared_error(y_test, model.predict(X_test_scaled))))\n",
    "    \n",
    "    print(pd.DataFrame(model.coef_, feature_names, columns = ['coef']).sort_values(by = 'coef', ascending = False))"
   ]
  },
  {
   "cell_type": "code",
   "execution_count": 93,
   "id": "afe7df67",
   "metadata": {},
   "outputs": [],
   "source": [
    "lasso = Lasso(random_state = 17)\n",
    "ridge = Ridge(random_state = 17)\n",
    "lasso_cv = LassoCV(random_state = 17)\n",
    "ridge_cv = RidgeCV()"
   ]
  },
  {
   "cell_type": "code",
   "execution_count": 94,
   "id": "7a674889",
   "metadata": {},
   "outputs": [
    {
     "name": "stdout",
     "output_type": "stream",
     "text": [
      "MAE: 2.3986344930417918\n",
      "MSE: 8.765901841522709\n",
      "RMSE: 2.960726573245613\n",
      "    coef\n",
      "T1  -0.0\n",
      "F1  -0.0\n",
      "F2   0.0\n",
      "F3  -0.0\n",
      "F4   0.0\n",
      "F5   0.0\n",
      "F6   0.0\n",
      "T2  -0.0\n",
      "T3   0.0\n",
      "F7  -0.0\n",
      "F9   0.0\n"
     ]
    }
   ],
   "source": [
    "train_validate_report(lasso, X_train_scaled, y_train, X_test_scaled, y_test, feature_names = df.columns[:-1])"
   ]
  },
  {
   "cell_type": "code",
   "execution_count": 95,
   "id": "d8c4e9a1",
   "metadata": {},
   "outputs": [
    {
     "name": "stdout",
     "output_type": "stream",
     "text": [
      "MAE: 2.4182609859719615\n",
      "MSE: 8.776976606130868\n",
      "RMSE: 2.9625962610742063\n",
      "        coef\n",
      "F2  0.174437\n",
      "F4  0.169266\n",
      "F6  0.135203\n",
      "T3  0.127073\n",
      "F9  0.096131\n",
      "F5  0.014689\n",
      "F1 -0.061166\n",
      "T2 -0.064422\n",
      "F7 -0.072487\n",
      "T1 -0.111564\n",
      "F3 -0.168502\n"
     ]
    }
   ],
   "source": [
    "train_validate_report(ridge, X_train_scaled, y_train, X_test_scaled, y_test, feature_names = df.columns[:-1])"
   ]
  },
  {
   "cell_type": "code",
   "execution_count": 96,
   "id": "3347c47b",
   "metadata": {},
   "outputs": [
    {
     "name": "stdout",
     "output_type": "stream",
     "text": [
      "MAE: 2.3986344930417918\n",
      "MSE: 8.765901841522709\n",
      "RMSE: 2.960726573245613\n",
      "            coef\n",
      "F2  6.508788e-17\n",
      "T1 -0.000000e+00\n",
      "F1 -0.000000e+00\n",
      "F3 -0.000000e+00\n",
      "F4  0.000000e+00\n",
      "F5  0.000000e+00\n",
      "F6  0.000000e+00\n",
      "T2 -0.000000e+00\n",
      "T3  0.000000e+00\n",
      "F7 -0.000000e+00\n",
      "F9  0.000000e+00\n"
     ]
    }
   ],
   "source": [
    "train_validate_report(lasso_cv, X_train_scaled, y_train, X_test_scaled, y_test, feature_names = df.columns[:-1])"
   ]
  },
  {
   "cell_type": "code",
   "execution_count": 97,
   "id": "732765fa",
   "metadata": {},
   "outputs": [
    {
     "name": "stdout",
     "output_type": "stream",
     "text": [
      "MAE: 2.417859597558593\n",
      "MSE: 8.774790315131943\n",
      "RMSE: 2.9622272558215283\n",
      "        coef\n",
      "F2  0.171922\n",
      "F4  0.166719\n",
      "F6  0.133023\n",
      "T3  0.125163\n",
      "F9  0.094671\n",
      "F5  0.014611\n",
      "F1 -0.059813\n",
      "T2 -0.063016\n",
      "F7 -0.071267\n",
      "T1 -0.109882\n",
      "F3 -0.165828\n"
     ]
    }
   ],
   "source": [
    "train_validate_report(ridge_cv, X_train_scaled, y_train, X_test_scaled, y_test, feature_names = df.columns[:-1])"
   ]
  },
  {
   "cell_type": "markdown",
   "id": "d41788f5",
   "metadata": {},
   "source": [
    "2. На важных признаках"
   ]
  },
  {
   "cell_type": "code",
   "execution_count": 98,
   "id": "89bf68ca",
   "metadata": {},
   "outputs": [
    {
     "data": {
      "text/plain": [
       "(655, 5)"
      ]
     },
     "execution_count": 98,
     "metadata": {},
     "output_type": "execute_result"
    }
   ],
   "source": [
    "df_1 = df.drop(['T2', 'F1', 'F2', 'T1', 'F5', 'T3', 'F10'], axis = 1)\n",
    "X, y = df_1.values, df['T2'].values\n",
    "\n",
    "X_train, X_test, y_train, y_test = train_test_split(X, y, test_size = 0.3,random_state = 42)\n",
    "\n",
    "#res= clf._predict_proba_lr(X_test,Y_test)\n",
    "\n",
    "X_train.shape"
   ]
  },
  {
   "cell_type": "code",
   "execution_count": 99,
   "id": "7656a301",
   "metadata": {},
   "outputs": [],
   "source": [
    "X_train_scaled = scaler.fit_transform(X_train)\n",
    "X_test_scaled = scaler.transform(X_test)"
   ]
  },
  {
   "cell_type": "code",
   "execution_count": 100,
   "id": "0de67ea6",
   "metadata": {},
   "outputs": [],
   "source": [
    "def train_validate_report(model, X_train_scaled, y_train, X_test_scaled, y_test, feature_names):\n",
    "    \n",
    "    model.fit(X_train_scaled, y_train)\n",
    "    \n",
    "    print('MAE:', mean_absolute_error(y_test, model.predict(X_test_scaled)))\n",
    "    print('MSE:', mean_squared_error(y_test, model.predict(X_test_scaled)))\n",
    "    print('RMSE:', np.sqrt(mean_squared_error(y_test, model.predict(X_test_scaled))))\n",
    "    \n",
    "    print(pd.DataFrame(model.coef_, feature_names, columns = ['coef']).sort_values(by = 'coef', ascending = False))"
   ]
  },
  {
   "cell_type": "code",
   "execution_count": 101,
   "id": "847be13a",
   "metadata": {},
   "outputs": [
    {
     "name": "stdout",
     "output_type": "stream",
     "text": [
      "MAE: 2.3920933436025504\n",
      "MSE: 8.666974694942374\n",
      "RMSE: 2.9439726043124743\n",
      "        coef\n",
      "F4  0.153404\n",
      "F6  0.127902\n",
      "F7  0.120786\n",
      "F9 -0.065374\n",
      "F3 -0.153397\n"
     ]
    }
   ],
   "source": [
    "train_validate_report(ridge_cv, X_train_scaled, y_train, X_test_scaled, y_test, feature_names = df_1.columns[:])"
   ]
  },
  {
   "cell_type": "markdown",
   "id": "323d11c2",
   "metadata": {},
   "source": [
    "Второй вариант"
   ]
  },
  {
   "cell_type": "code",
   "execution_count": 102,
   "id": "d2c898e0",
   "metadata": {},
   "outputs": [
    {
     "data": {
      "text/plain": [
       "(655, 7)"
      ]
     },
     "execution_count": 102,
     "metadata": {},
     "output_type": "execute_result"
    }
   ],
   "source": [
    "df_2 = df.drop(['T2', 'F1', 'T1', 'F5', 'F10'], axis = 1)\n",
    "X, y = df_2.values, df['T2'].values\n",
    "\n",
    "X_train, X_test, y_train, y_test = train_test_split(X, y, test_size = 0.3,random_state = 42)\n",
    "\n",
    "#res= clf._predict_proba_lr(X_test,Y_test)\n",
    "\n",
    "X_train.shape"
   ]
  },
  {
   "cell_type": "code",
   "execution_count": 103,
   "id": "835ebbef",
   "metadata": {},
   "outputs": [],
   "source": [
    "X_train_scaled = scaler.fit_transform(X_train)\n",
    "X_test_scaled = scaler.transform(X_test)"
   ]
  },
  {
   "cell_type": "code",
   "execution_count": 104,
   "id": "a1773d04",
   "metadata": {},
   "outputs": [],
   "source": [
    "def train_validate_report(model, X_train_scaled, y_train, X_test_scaled, y_test, feature_names):\n",
    "    \n",
    "    model.fit(X_train_scaled, y_train)\n",
    "    \n",
    "    print('MAE:', mean_absolute_error(y_test, model.predict(X_test_scaled)))\n",
    "    print('MSE:', mean_squared_error(y_test, model.predict(X_test_scaled)))\n",
    "    print('RMSE:', np.sqrt(mean_squared_error(y_test, model.predict(X_test_scaled))))\n",
    "    \n",
    "    print(pd.DataFrame(model.coef_, feature_names, columns = ['coef']).sort_values(by = 'coef', ascending = False))"
   ]
  },
  {
   "cell_type": "code",
   "execution_count": 105,
   "id": "cea4b7d0",
   "metadata": {},
   "outputs": [
    {
     "name": "stdout",
     "output_type": "stream",
     "text": [
      "MAE: 2.4091779168014202\n",
      "MSE: 8.765646670396103\n",
      "RMSE: 2.9606834802788535\n",
      "        coef\n",
      "F2  0.173727\n",
      "F4  0.159520\n",
      "F6  0.125949\n",
      "F7  0.118288\n",
      "T3 -0.058801\n",
      "F9 -0.075542\n",
      "F3 -0.161315\n"
     ]
    }
   ],
   "source": [
    "train_validate_report(ridge_cv, X_train_scaled, y_train, X_test_scaled, y_test, feature_names = df_2.columns[:])"
   ]
  }
 ],
 "metadata": {
  "kernelspec": {
   "display_name": "Python 3 (ipykernel)",
   "language": "python",
   "name": "python3"
  },
  "language_info": {
   "codemirror_mode": {
    "name": "ipython",
    "version": 3
   },
   "file_extension": ".py",
   "mimetype": "text/x-python",
   "name": "python",
   "nbconvert_exporter": "python",
   "pygments_lexer": "ipython3",
   "version": "3.9.7"
  }
 },
 "nbformat": 4,
 "nbformat_minor": 5
}
