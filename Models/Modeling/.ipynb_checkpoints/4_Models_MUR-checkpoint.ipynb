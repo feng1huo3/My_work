{
 "cells": [
  {
   "cell_type": "markdown",
   "id": "725006f6",
   "metadata": {},
   "source": [
    "# Построение модели для прогнозирования модуля упругости при растяжении"
   ]
  },
  {
   "cell_type": "code",
   "execution_count": 9,
   "id": "77e698c3",
   "metadata": {},
   "outputs": [],
   "source": [
    "import numpy as np\n",
    "import pandas as pd\n",
    "\n",
    "from sklearn.model_selection import train_test_split\n",
    "from sklearn.linear_model import LinearRegression, Ridge, Lasso, RidgeCV, LassoCV\n",
    "from sklearn.preprocessing import StandardScaler \n",
    "from sklearn.metrics import mean_squared_error, mean_absolute_error, explained_variance_score"
   ]
  },
  {
   "cell_type": "code",
   "execution_count": 10,
   "id": "e9552a43",
   "metadata": {},
   "outputs": [],
   "source": [
    "#df.index = df.index.astype('int')"
   ]
  },
  {
   "cell_type": "code",
   "execution_count": 11,
   "id": "667135da",
   "metadata": {},
   "outputs": [
    {
     "data": {
      "text/html": [
       "<div>\n",
       "<style scoped>\n",
       "    .dataframe tbody tr th:only-of-type {\n",
       "        vertical-align: middle;\n",
       "    }\n",
       "\n",
       "    .dataframe tbody tr th {\n",
       "        vertical-align: top;\n",
       "    }\n",
       "\n",
       "    .dataframe thead th {\n",
       "        text-align: right;\n",
       "    }\n",
       "</style>\n",
       "<table border=\"1\" class=\"dataframe\">\n",
       "  <thead>\n",
       "    <tr style=\"text-align: right;\">\n",
       "      <th></th>\n",
       "      <th>T1</th>\n",
       "      <th>F1</th>\n",
       "      <th>F2</th>\n",
       "      <th>F3</th>\n",
       "      <th>F4</th>\n",
       "      <th>F5</th>\n",
       "      <th>F6</th>\n",
       "      <th>T2</th>\n",
       "      <th>T3</th>\n",
       "      <th>F7</th>\n",
       "      <th>F9</th>\n",
       "      <th>F10</th>\n",
       "    </tr>\n",
       "  </thead>\n",
       "  <tbody>\n",
       "    <tr>\n",
       "      <th>781.0</th>\n",
       "      <td>2.863199</td>\n",
       "      <td>2071.785089</td>\n",
       "      <td>841.918905</td>\n",
       "      <td>155.908888</td>\n",
       "      <td>22.355052</td>\n",
       "      <td>262.458550</td>\n",
       "      <td>433.467448</td>\n",
       "      <td>75.516671</td>\n",
       "      <td>2689.635751</td>\n",
       "      <td>140.201741</td>\n",
       "      <td>4.816469</td>\n",
       "      <td>66.442575</td>\n",
       "    </tr>\n",
       "    <tr>\n",
       "      <th>574.0</th>\n",
       "      <td>2.908787</td>\n",
       "      <td>2051.029636</td>\n",
       "      <td>620.951075</td>\n",
       "      <td>57.105523</td>\n",
       "      <td>22.255119</td>\n",
       "      <td>254.922843</td>\n",
       "      <td>1238.476416</td>\n",
       "      <td>75.910061</td>\n",
       "      <td>2246.157859</td>\n",
       "      <td>216.444806</td>\n",
       "      <td>8.120801</td>\n",
       "      <td>63.980008</td>\n",
       "    </tr>\n",
       "    <tr>\n",
       "      <th>339.0</th>\n",
       "      <td>2.890203</td>\n",
       "      <td>1980.301554</td>\n",
       "      <td>587.823272</td>\n",
       "      <td>130.165094</td>\n",
       "      <td>25.237530</td>\n",
       "      <td>246.067421</td>\n",
       "      <td>212.518314</td>\n",
       "      <td>76.452119</td>\n",
       "      <td>2421.754959</td>\n",
       "      <td>137.077690</td>\n",
       "      <td>11.565045</td>\n",
       "      <td>69.516832</td>\n",
       "    </tr>\n",
       "    <tr>\n",
       "      <th>534.0</th>\n",
       "      <td>3.872753</td>\n",
       "      <td>1914.952048</td>\n",
       "      <td>704.626992</td>\n",
       "      <td>166.951802</td>\n",
       "      <td>23.333850</td>\n",
       "      <td>206.465989</td>\n",
       "      <td>411.821058</td>\n",
       "      <td>75.756603</td>\n",
       "      <td>2373.880343</td>\n",
       "      <td>291.963120</td>\n",
       "      <td>7.254465</td>\n",
       "      <td>60.094153</td>\n",
       "    </tr>\n",
       "    <tr>\n",
       "      <th>432.0</th>\n",
       "      <td>2.216488</td>\n",
       "      <td>1917.386089</td>\n",
       "      <td>1378.645894</td>\n",
       "      <td>111.596268</td>\n",
       "      <td>22.430431</td>\n",
       "      <td>268.145376</td>\n",
       "      <td>130.611971</td>\n",
       "      <td>74.220351</td>\n",
       "      <td>2082.820982</td>\n",
       "      <td>251.244419</td>\n",
       "      <td>3.631816</td>\n",
       "      <td>43.830898</td>\n",
       "    </tr>\n",
       "  </tbody>\n",
       "</table>\n",
       "</div>"
      ],
      "text/plain": [
       "             T1           F1           F2          F3         F4          F5  \\\n",
       "781.0  2.863199  2071.785089   841.918905  155.908888  22.355052  262.458550   \n",
       "574.0  2.908787  2051.029636   620.951075   57.105523  22.255119  254.922843   \n",
       "339.0  2.890203  1980.301554   587.823272  130.165094  25.237530  246.067421   \n",
       "534.0  3.872753  1914.952048   704.626992  166.951802  23.333850  206.465989   \n",
       "432.0  2.216488  1917.386089  1378.645894  111.596268  22.430431  268.145376   \n",
       "\n",
       "                F6         T2           T3          F7         F9        F10  \n",
       "781.0   433.467448  75.516671  2689.635751  140.201741   4.816469  66.442575  \n",
       "574.0  1238.476416  75.910061  2246.157859  216.444806   8.120801  63.980008  \n",
       "339.0   212.518314  76.452119  2421.754959  137.077690  11.565045  69.516832  \n",
       "534.0   411.821058  75.756603  2373.880343  291.963120   7.254465  60.094153  \n",
       "432.0   130.611971  74.220351  2082.820982  251.244419   3.631816  43.830898  "
      ]
     },
     "execution_count": 11,
     "metadata": {},
     "output_type": "execute_result"
    }
   ],
   "source": [
    "df = pd.read_csv('data_model.csv', index_col = 0)\n",
    "df.sample(5)"
   ]
  },
  {
   "cell_type": "code",
   "execution_count": 12,
   "id": "be18cc55",
   "metadata": {},
   "outputs": [
    {
     "data": {
      "text/plain": [
       "Index(['T1', 'F1', 'F2', 'F3', 'F4', 'F5', 'F6', 'T2', 'T3', 'F7', 'F9',\n",
       "       'F10'],\n",
       "      dtype='object')"
      ]
     },
     "execution_count": 12,
     "metadata": {},
     "output_type": "execute_result"
    }
   ],
   "source": [
    "df.columns"
   ]
  },
  {
   "cell_type": "markdown",
   "id": "29d2cae4",
   "metadata": {},
   "source": [
    "1. Упражнения на всей выборке"
   ]
  },
  {
   "cell_type": "code",
   "execution_count": 30,
   "id": "8e346795",
   "metadata": {},
   "outputs": [
    {
     "name": "stdout",
     "output_type": "stream",
     "text": [
      "(655, 11)\n",
      "(281, 11)\n",
      "(655, 1)\n",
      "(281, 1)\n"
     ]
    }
   ],
   "source": [
    "target = ['T2']\n",
    "features = ['T1', 'F1', 'F2', 'F3', 'F4', 'F5', 'F6', 'T3', 'F7', 'F9', 'F10']\n",
    "\n",
    "X = df[features]\n",
    "y = df[target]\n",
    "\n",
    "X_train, X_test, y_train, y_test = train_test_split(X, y, test_size = 0.3,random_state = 5)\n",
    "\n",
    "#res= clf._predict_proba_lr(X_test,Y_test)\n",
    "\n",
    "print(X_train.shape)\n",
    "print(X_test.shape)\n",
    "print(y_train.shape)\n",
    "print(y_test.shape)"
   ]
  },
  {
   "cell_type": "code",
   "execution_count": 31,
   "id": "bfed51bd",
   "metadata": {},
   "outputs": [
    {
     "name": "stdout",
     "output_type": "stream",
     "text": [
      "10.449172521598022\n"
     ]
    }
   ],
   "source": [
    "linear = LinearRegression()\n",
    "linear.fit(X_train, y_train)\n",
    "\n",
    "y_pred = linear.predict(X_test)\n",
    "mse_linear = mean_squared_error(y_pred, y_test)\n",
    "\n",
    "print(mse_linear)"
   ]
  },
  {
   "cell_type": "code",
   "execution_count": 32,
   "id": "ae49e0a6",
   "metadata": {},
   "outputs": [
    {
     "name": "stdout",
     "output_type": "stream",
     "text": [
      "[[ 4.17114985e-02 -3.01502340e-03  5.51650651e-04 -8.93464635e-03\n",
      "   5.30423197e-02 -9.08842063e-05  1.29980323e-04  3.67129137e-05\n",
      "   2.72638750e-03 -1.69385681e-02  1.32012220e-03]]\n"
     ]
    }
   ],
   "source": [
    "print(linear.coef_)"
   ]
  },
  {
   "cell_type": "code",
   "execution_count": 33,
   "id": "9956fffa",
   "metadata": {},
   "outputs": [
    {
     "name": "stdout",
     "output_type": "stream",
     "text": [
      "Lasso MSE with Lambda = 1e-06 is 10.449171673543068\n",
      "Lasso MSE with Lambda = 0.0001 is 10.449087734627977\n",
      "Lasso MSE with Lambda = 0.005 is 10.444985812292922\n",
      "Lasso MSE with Lambda = 0.01 is 10.440905179476687\n",
      "Lasso MSE with Lambda = 0.05 is 10.42757905728457\n",
      "Lasso MSE with Lambda = 0.1 is 10.4352783741403\n",
      "Lasso MSE with Lambda = 0.2 is 10.451095605153833\n",
      "Lasso MSE with Lambda = 0.3 is 10.466830191673312\n",
      "Lasso MSE with Lambda = 0.5 is 10.459502390120019\n"
     ]
    }
   ],
   "source": [
    "lambda_values = [0.000001, 0.0001, 0.005, 0.01, 0.05, 0.1, 0.2, 0.3, 0.5]\n",
    "\n",
    "for lambda_val in lambda_values:\n",
    "    lasso = Lasso(lambda_val)\n",
    "    lasso.fit(X_train, y_train)\n",
    "    y_pred = lasso.predict(X_test)\n",
    "    mse_lasso = mean_squared_error(y_pred, y_test)\n",
    "    print(('Lasso MSE with Lambda = {} is {}').format(lambda_val, mse_lasso))"
   ]
  },
  {
   "cell_type": "code",
   "execution_count": 34,
   "id": "e4de054c",
   "metadata": {},
   "outputs": [
    {
     "name": "stdout",
     "output_type": "stream",
     "text": [
      "[ 0.00000000e+00 -2.81172868e-03  5.35995064e-04 -8.15733121e-03\n",
      "  0.00000000e+00 -0.00000000e+00  1.10376984e-04  4.23908885e-05\n",
      "  2.60378361e-03 -0.00000000e+00  0.00000000e+00]\n"
     ]
    }
   ],
   "source": [
    "print(lasso.coef_)"
   ]
  },
  {
   "cell_type": "code",
   "execution_count": 35,
   "id": "c05f5deb",
   "metadata": {},
   "outputs": [
    {
     "name": "stdout",
     "output_type": "stream",
     "text": [
      "Ridge MSE with Lambda = 1e-06 is 10.449172521547883\n",
      "Ridge MSE with Lambda = 0.0001 is 10.449172516583392\n",
      "Ridge MSE with Lambda = 0.005 is 10.449172270869289\n",
      "Ridge MSE with Lambda = 0.01 is 10.449172020146989\n",
      "Ridge MSE with Lambda = 0.05 is 10.449170014600522\n",
      "Ridge MSE with Lambda = 0.1 is 10.44916750824709\n",
      "Ridge MSE with Lambda = 0.2 is 10.449162497471619\n",
      "Ridge MSE with Lambda = 0.3 is 10.449157489269924\n",
      "Ridge MSE with Lambda = 0.5 is 10.449147480581164\n"
     ]
    }
   ],
   "source": [
    "lambda_values = [0.000001, 0.0001, 0.005, 0.01, 0.05, 0.1, 0.2, 0.3, 0.5]\n",
    "\n",
    "for lambda_val in lambda_values:\n",
    "    ridge = Ridge(lambda_val)\n",
    "    ridge.fit(X_train, y_train)\n",
    "    y_pred = ridge.predict(X_test)\n",
    "    mse_ridge = mean_squared_error(y_pred, y_test)\n",
    "    print(('Ridge MSE with Lambda = {} is {}').format(lambda_val, mse_ridge))"
   ]
  },
  {
   "cell_type": "code",
   "execution_count": 36,
   "id": "94220578",
   "metadata": {},
   "outputs": [
    {
     "name": "stdout",
     "output_type": "stream",
     "text": [
      "[[ 4.16684478e-02 -3.01500954e-03  5.51651878e-04 -8.93460269e-03\n",
      "   5.30346766e-02 -9.09378884e-05  1.29981318e-04  3.67135199e-05\n",
      "   2.72642678e-03 -1.69362159e-02  1.32013152e-03]]\n"
     ]
    }
   ],
   "source": [
    "print(ridge.coef_)"
   ]
  },
  {
   "cell_type": "code",
   "execution_count": null,
   "id": "0e14addd",
   "metadata": {},
   "outputs": [],
   "source": []
  },
  {
   "cell_type": "code",
   "execution_count": 55,
   "id": "d89712ab",
   "metadata": {},
   "outputs": [
    {
     "data": {
      "text/plain": [
       "(655, 11)"
      ]
     },
     "execution_count": 55,
     "metadata": {},
     "output_type": "execute_result"
    }
   ],
   "source": [
    "df_1 = df.drop(['T2'], axis = 1)\n",
    "X, y = df_1.values, df['T2'].values\n",
    "\n",
    "X_train, X_test, y_train, y_test = train_test_split(X, y, test_size = 0.3,random_state = 42)\n",
    "\n",
    "#res= clf._predict_proba_lr(X_test,Y_test)\n",
    "\n",
    "X_train.shape"
   ]
  },
  {
   "cell_type": "code",
   "execution_count": 56,
   "id": "ed878cdb",
   "metadata": {},
   "outputs": [],
   "source": [
    "scaler = StandardScaler()"
   ]
  },
  {
   "cell_type": "code",
   "execution_count": 57,
   "id": "0ddb551c",
   "metadata": {},
   "outputs": [],
   "source": [
    "X_train_scaled = scaler.fit_transform(X_train)\n",
    "X_test_scaled = scaler.transform(X_test)"
   ]
  },
  {
   "cell_type": "code",
   "execution_count": 58,
   "id": "eb664d35",
   "metadata": {},
   "outputs": [
    {
     "data": {
      "text/plain": [
       "(655, 11)"
      ]
     },
     "execution_count": 58,
     "metadata": {},
     "output_type": "execute_result"
    }
   ],
   "source": [
    "X_train_scaled.shape"
   ]
  },
  {
   "cell_type": "code",
   "execution_count": 59,
   "id": "869b4dd1",
   "metadata": {},
   "outputs": [
    {
     "data": {
      "text/plain": [
       "(281, 11)"
      ]
     },
     "execution_count": 59,
     "metadata": {},
     "output_type": "execute_result"
    }
   ],
   "source": [
    "X_test_scaled.shape"
   ]
  },
  {
   "cell_type": "code",
   "execution_count": 60,
   "id": "274c0ca1",
   "metadata": {},
   "outputs": [],
   "source": [
    "def train_validate_report(model, X_train_scaled, y_train, X_test_scaled, y_test, feature_names):\n",
    "    \n",
    "    model.fit(X_train_scaled, y_train)\n",
    "    \n",
    "    print('MAE:', mean_absolute_error(y_test, model.predict(X_test_scaled)))\n",
    "    print('MSE:', mean_squared_error(y_test, model.predict(X_test_scaled)))\n",
    "    print('RMSE:', np.sqrt(mean_squared_error(y_test, model.predict(X_test_scaled))))\n",
    "    \n",
    "    print(pd.DataFrame(model.coef_, feature_names, columns = ['coef']).sort_values(\n",
    "        by = 'coef', ascending = False))"
   ]
  },
  {
   "cell_type": "code",
   "execution_count": 61,
   "id": "afe7df67",
   "metadata": {},
   "outputs": [],
   "source": [
    "lasso = Lasso(random_state = 17)\n",
    "ridge = Ridge(random_state = 17)\n",
    "lasso_cv = LassoCV(random_state = 17)\n",
    "ridge_cv = RidgeCV()"
   ]
  },
  {
   "cell_type": "code",
   "execution_count": 62,
   "id": "7a674889",
   "metadata": {},
   "outputs": [
    {
     "name": "stdout",
     "output_type": "stream",
     "text": [
      "MAE: 2.3986344930417918\n",
      "MSE: 8.765901841522709\n",
      "RMSE: 2.960726573245613\n",
      "    coef\n",
      "T1  -0.0\n",
      "F1  -0.0\n",
      "F2   0.0\n",
      "F3  -0.0\n",
      "F4   0.0\n",
      "F5   0.0\n",
      "F6   0.0\n",
      "T2  -0.0\n",
      "T3   0.0\n",
      "F7  -0.0\n",
      "F9   0.0\n"
     ]
    }
   ],
   "source": [
    "train_validate_report(lasso, X_train_scaled, y_train, X_test_scaled, y_test, \n",
    "                      feature_names = df.columns[:-1])"
   ]
  },
  {
   "cell_type": "code",
   "execution_count": 63,
   "id": "d8c4e9a1",
   "metadata": {},
   "outputs": [
    {
     "name": "stdout",
     "output_type": "stream",
     "text": [
      "MAE: 2.4182609859719615\n",
      "MSE: 8.776976606130868\n",
      "RMSE: 2.9625962610742063\n",
      "        coef\n",
      "F2  0.174437\n",
      "F4  0.169266\n",
      "F6  0.135203\n",
      "T3  0.127073\n",
      "F9  0.096131\n",
      "F5  0.014689\n",
      "F1 -0.061166\n",
      "T2 -0.064422\n",
      "F7 -0.072487\n",
      "T1 -0.111564\n",
      "F3 -0.168502\n"
     ]
    }
   ],
   "source": [
    "train_validate_report(ridge, X_train_scaled, y_train, X_test_scaled, y_test, feature_names = df.columns[:-1])"
   ]
  },
  {
   "cell_type": "code",
   "execution_count": 64,
   "id": "3347c47b",
   "metadata": {},
   "outputs": [
    {
     "name": "stdout",
     "output_type": "stream",
     "text": [
      "MAE: 2.3986344930417918\n",
      "MSE: 8.765901841522709\n",
      "RMSE: 2.960726573245613\n",
      "            coef\n",
      "F2  6.508788e-17\n",
      "T1 -0.000000e+00\n",
      "F1 -0.000000e+00\n",
      "F3 -0.000000e+00\n",
      "F4  0.000000e+00\n",
      "F5  0.000000e+00\n",
      "F6  0.000000e+00\n",
      "T2 -0.000000e+00\n",
      "T3  0.000000e+00\n",
      "F7 -0.000000e+00\n",
      "F9  0.000000e+00\n"
     ]
    }
   ],
   "source": [
    "train_validate_report(lasso_cv, X_train_scaled, y_train, X_test_scaled, y_test, feature_names = df.columns[:-1])"
   ]
  },
  {
   "cell_type": "code",
   "execution_count": 65,
   "id": "732765fa",
   "metadata": {},
   "outputs": [
    {
     "name": "stdout",
     "output_type": "stream",
     "text": [
      "MAE: 2.417859597558593\n",
      "MSE: 8.774790315131943\n",
      "RMSE: 2.9622272558215283\n",
      "        coef\n",
      "F2  0.171922\n",
      "F4  0.166719\n",
      "F6  0.133023\n",
      "T3  0.125163\n",
      "F9  0.094671\n",
      "F5  0.014611\n",
      "F1 -0.059813\n",
      "T2 -0.063016\n",
      "F7 -0.071267\n",
      "T1 -0.109882\n",
      "F3 -0.165828\n"
     ]
    }
   ],
   "source": [
    "train_validate_report(ridge_cv, X_train_scaled, y_train, X_test_scaled, y_test, feature_names = df.columns[:-1])"
   ]
  },
  {
   "cell_type": "markdown",
   "id": "d41788f5",
   "metadata": {},
   "source": [
    "2. На важных признаках"
   ]
  },
  {
   "cell_type": "code",
   "execution_count": 47,
   "id": "89bf68ca",
   "metadata": {},
   "outputs": [
    {
     "data": {
      "text/plain": [
       "(655, 5)"
      ]
     },
     "execution_count": 47,
     "metadata": {},
     "output_type": "execute_result"
    }
   ],
   "source": [
    "df_1 = df.drop(['T2', 'F1', 'F2', 'T1', 'F5', 'T3', 'F10'], axis = 1)\n",
    "X, y = df_1.values, df['T2'].values\n",
    "\n",
    "X_train, X_test, y_train, y_test = train_test_split(X, y, test_size = 0.3,random_state = 42)\n",
    "\n",
    "#res= clf._predict_proba_lr(X_test,Y_test)\n",
    "\n",
    "X_train.shape"
   ]
  },
  {
   "cell_type": "code",
   "execution_count": 48,
   "id": "7656a301",
   "metadata": {},
   "outputs": [],
   "source": [
    "X_train_scaled = scaler.fit_transform(X_train)\n",
    "X_test_scaled = scaler.transform(X_test)"
   ]
  },
  {
   "cell_type": "code",
   "execution_count": 49,
   "id": "0de67ea6",
   "metadata": {},
   "outputs": [],
   "source": [
    "def train_validate_report(model, X_train_scaled, y_train, X_test_scaled, y_test, feature_names):\n",
    "    \n",
    "    model.fit(X_train_scaled, y_train)\n",
    "    \n",
    "    print('MAE:', mean_absolute_error(y_test, model.predict(X_test_scaled)))\n",
    "    print('MSE:', mean_squared_error(y_test, model.predict(X_test_scaled)))\n",
    "    print('RMSE:', np.sqrt(mean_squared_error(y_test, model.predict(X_test_scaled))))\n",
    "    \n",
    "    print(pd.DataFrame(model.coef_, feature_names, columns = ['coef']).sort_values(by = 'coef', ascending = False))"
   ]
  },
  {
   "cell_type": "code",
   "execution_count": 50,
   "id": "847be13a",
   "metadata": {},
   "outputs": [
    {
     "name": "stdout",
     "output_type": "stream",
     "text": [
      "MAE: 2.3920933436025504\n",
      "MSE: 8.666974694942374\n",
      "RMSE: 2.9439726043124743\n",
      "        coef\n",
      "F4  0.153404\n",
      "F6  0.127902\n",
      "F7  0.120786\n",
      "F9 -0.065374\n",
      "F3 -0.153397\n"
     ]
    }
   ],
   "source": [
    "train_validate_report(ridge_cv, X_train_scaled, y_train, X_test_scaled, y_test, feature_names = df_1.columns[:])"
   ]
  },
  {
   "cell_type": "markdown",
   "id": "323d11c2",
   "metadata": {},
   "source": [
    "Второй вариант"
   ]
  },
  {
   "cell_type": "code",
   "execution_count": 51,
   "id": "d2c898e0",
   "metadata": {},
   "outputs": [
    {
     "data": {
      "text/plain": [
       "(655, 7)"
      ]
     },
     "execution_count": 51,
     "metadata": {},
     "output_type": "execute_result"
    }
   ],
   "source": [
    "df_2 = df.drop(['T2', 'F1', 'T1', 'F5', 'F10'], axis = 1)\n",
    "X, y = df_2.values, df['T2'].values\n",
    "\n",
    "X_train, X_test, y_train, y_test = train_test_split(X, y, test_size = 0.3,random_state = 42)\n",
    "\n",
    "#res= clf._predict_proba_lr(X_test,Y_test)\n",
    "\n",
    "X_train.shape"
   ]
  },
  {
   "cell_type": "code",
   "execution_count": 52,
   "id": "835ebbef",
   "metadata": {},
   "outputs": [],
   "source": [
    "X_train_scaled = scaler.fit_transform(X_train)\n",
    "X_test_scaled = scaler.transform(X_test)"
   ]
  },
  {
   "cell_type": "code",
   "execution_count": 53,
   "id": "a1773d04",
   "metadata": {},
   "outputs": [],
   "source": [
    "def train_validate_report(model, X_train_scaled, y_train, X_test_scaled, y_test, feature_names):\n",
    "    \n",
    "    model.fit(X_train_scaled, y_train)\n",
    "    \n",
    "    print('MAE:', mean_absolute_error(y_test, model.predict(X_test_scaled)))\n",
    "    print('MSE:', mean_squared_error(y_test, model.predict(X_test_scaled)))\n",
    "    print('RMSE:', np.sqrt(mean_squared_error(y_test, model.predict(X_test_scaled))))\n",
    "    \n",
    "    print(pd.DataFrame(model.coef_, feature_names, columns = ['coef']).sort_values(by = 'coef', ascending = False))"
   ]
  },
  {
   "cell_type": "code",
   "execution_count": 54,
   "id": "cea4b7d0",
   "metadata": {},
   "outputs": [
    {
     "name": "stdout",
     "output_type": "stream",
     "text": [
      "MAE: 2.4091779168014202\n",
      "MSE: 8.765646670396103\n",
      "RMSE: 2.9606834802788535\n",
      "        coef\n",
      "F2  0.173727\n",
      "F4  0.159520\n",
      "F6  0.125949\n",
      "F7  0.118288\n",
      "T3 -0.058801\n",
      "F9 -0.075542\n",
      "F3 -0.161315\n"
     ]
    }
   ],
   "source": [
    "train_validate_report(ridge_cv, X_train_scaled, y_train, X_test_scaled, y_test, feature_names = df_2.columns[:])"
   ]
  },
  {
   "cell_type": "code",
   "execution_count": null,
   "id": "f281b5be",
   "metadata": {},
   "outputs": [],
   "source": []
  },
  {
   "cell_type": "code",
   "execution_count": null,
   "id": "c380789c",
   "metadata": {},
   "outputs": [],
   "source": []
  },
  {
   "cell_type": "code",
   "execution_count": null,
   "id": "b6d01038",
   "metadata": {},
   "outputs": [],
   "source": []
  }
 ],
 "metadata": {
  "kernelspec": {
   "display_name": "Python 3 (ipykernel)",
   "language": "python",
   "name": "python3"
  },
  "language_info": {
   "codemirror_mode": {
    "name": "ipython",
    "version": 3
   },
   "file_extension": ".py",
   "mimetype": "text/x-python",
   "name": "python",
   "nbconvert_exporter": "python",
   "pygments_lexer": "ipython3",
   "version": "3.9.7"
  }
 },
 "nbformat": 4,
 "nbformat_minor": 5
}
