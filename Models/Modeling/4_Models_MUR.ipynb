{
 "cells": [
  {
   "cell_type": "markdown",
   "id": "725006f6",
   "metadata": {},
   "source": [
    "# Построение модели для прогнозирования модуля упругости при растяжении"
   ]
  },
  {
   "cell_type": "code",
   "execution_count": 30,
   "id": "77e698c3",
   "metadata": {},
   "outputs": [],
   "source": [
    "import numpy as np\n",
    "import pandas as pd\n",
    "\n",
    "from sklearn.model_selection import train_test_split\n",
    "from sklearn.linear_model import Ridge, Lasso, RidgeCV, LassoCV\n",
    "from sklearn.preprocessing import StandardScaler \n",
    "from sklearn.metrics import mean_squared_error, mean_absolute_error, explained_variance_score"
   ]
  },
  {
   "cell_type": "code",
   "execution_count": 31,
   "id": "e9552a43",
   "metadata": {},
   "outputs": [],
   "source": [
    "#df.index = df.index.astype('int')"
   ]
  },
  {
   "cell_type": "code",
   "execution_count": 32,
   "id": "667135da",
   "metadata": {},
   "outputs": [
    {
     "data": {
      "text/html": [
       "<div>\n",
       "<style scoped>\n",
       "    .dataframe tbody tr th:only-of-type {\n",
       "        vertical-align: middle;\n",
       "    }\n",
       "\n",
       "    .dataframe tbody tr th {\n",
       "        vertical-align: top;\n",
       "    }\n",
       "\n",
       "    .dataframe thead th {\n",
       "        text-align: right;\n",
       "    }\n",
       "</style>\n",
       "<table border=\"1\" class=\"dataframe\">\n",
       "  <thead>\n",
       "    <tr style=\"text-align: right;\">\n",
       "      <th></th>\n",
       "      <th>T1</th>\n",
       "      <th>F1</th>\n",
       "      <th>F2</th>\n",
       "      <th>F3</th>\n",
       "      <th>F4</th>\n",
       "      <th>F5</th>\n",
       "      <th>F6</th>\n",
       "      <th>T2</th>\n",
       "      <th>T3</th>\n",
       "      <th>F7</th>\n",
       "      <th>F9</th>\n",
       "      <th>F10</th>\n",
       "    </tr>\n",
       "  </thead>\n",
       "  <tbody>\n",
       "    <tr>\n",
       "      <th>959.0</th>\n",
       "      <td>2.263186</td>\n",
       "      <td>1927.067581</td>\n",
       "      <td>1191.498362</td>\n",
       "      <td>82.452023</td>\n",
       "      <td>24.391331</td>\n",
       "      <td>256.273023</td>\n",
       "      <td>294.814619</td>\n",
       "      <td>77.995289</td>\n",
       "      <td>2758.414767</td>\n",
       "      <td>241.620617</td>\n",
       "      <td>5.243970</td>\n",
       "      <td>59.011514</td>\n",
       "    </tr>\n",
       "    <tr>\n",
       "      <th>838.0</th>\n",
       "      <td>3.990794</td>\n",
       "      <td>2018.231213</td>\n",
       "      <td>710.831426</td>\n",
       "      <td>101.903836</td>\n",
       "      <td>21.195527</td>\n",
       "      <td>227.564104</td>\n",
       "      <td>700.659837</td>\n",
       "      <td>73.550433</td>\n",
       "      <td>2647.588058</td>\n",
       "      <td>239.096087</td>\n",
       "      <td>10.387381</td>\n",
       "      <td>52.761679</td>\n",
       "    </tr>\n",
       "    <tr>\n",
       "      <th>859.0</th>\n",
       "      <td>1.637759</td>\n",
       "      <td>1994.089395</td>\n",
       "      <td>1501.915969</td>\n",
       "      <td>106.703068</td>\n",
       "      <td>22.086940</td>\n",
       "      <td>277.271915</td>\n",
       "      <td>390.592063</td>\n",
       "      <td>74.255046</td>\n",
       "      <td>2275.243194</td>\n",
       "      <td>159.764640</td>\n",
       "      <td>8.613776</td>\n",
       "      <td>49.636952</td>\n",
       "    </tr>\n",
       "    <tr>\n",
       "      <th>1013.0</th>\n",
       "      <td>2.310394</td>\n",
       "      <td>1931.146887</td>\n",
       "      <td>554.010341</td>\n",
       "      <td>96.749782</td>\n",
       "      <td>22.146487</td>\n",
       "      <td>214.827727</td>\n",
       "      <td>56.242761</td>\n",
       "      <td>78.143609</td>\n",
       "      <td>1939.307550</td>\n",
       "      <td>87.270139</td>\n",
       "      <td>7.683346</td>\n",
       "      <td>62.785021</td>\n",
       "    </tr>\n",
       "    <tr>\n",
       "      <th>285.0</th>\n",
       "      <td>3.864766</td>\n",
       "      <td>1964.924431</td>\n",
       "      <td>369.448793</td>\n",
       "      <td>138.699165</td>\n",
       "      <td>21.909672</td>\n",
       "      <td>276.393919</td>\n",
       "      <td>176.460142</td>\n",
       "      <td>74.017914</td>\n",
       "      <td>1630.317550</td>\n",
       "      <td>307.352077</td>\n",
       "      <td>7.016182</td>\n",
       "      <td>67.448985</td>\n",
       "    </tr>\n",
       "  </tbody>\n",
       "</table>\n",
       "</div>"
      ],
      "text/plain": [
       "              T1           F1           F2          F3         F4          F5  \\\n",
       "959.0   2.263186  1927.067581  1191.498362   82.452023  24.391331  256.273023   \n",
       "838.0   3.990794  2018.231213   710.831426  101.903836  21.195527  227.564104   \n",
       "859.0   1.637759  1994.089395  1501.915969  106.703068  22.086940  277.271915   \n",
       "1013.0  2.310394  1931.146887   554.010341   96.749782  22.146487  214.827727   \n",
       "285.0   3.864766  1964.924431   369.448793  138.699165  21.909672  276.393919   \n",
       "\n",
       "                F6         T2           T3          F7         F9        F10  \n",
       "959.0   294.814619  77.995289  2758.414767  241.620617   5.243970  59.011514  \n",
       "838.0   700.659837  73.550433  2647.588058  239.096087  10.387381  52.761679  \n",
       "859.0   390.592063  74.255046  2275.243194  159.764640   8.613776  49.636952  \n",
       "1013.0   56.242761  78.143609  1939.307550   87.270139   7.683346  62.785021  \n",
       "285.0   176.460142  74.017914  1630.317550  307.352077   7.016182  67.448985  "
      ]
     },
     "execution_count": 32,
     "metadata": {},
     "output_type": "execute_result"
    }
   ],
   "source": [
    "df = pd.read_csv('data_model.csv', index_col = 0)\n",
    "df.sample(5)"
   ]
  },
  {
   "cell_type": "markdown",
   "id": "29d2cae4",
   "metadata": {},
   "source": [
    "1. Упражнения на всей выборке"
   ]
  },
  {
   "cell_type": "code",
   "execution_count": 33,
   "id": "8e346795",
   "metadata": {},
   "outputs": [
    {
     "data": {
      "text/plain": [
       "(655, 11)"
      ]
     },
     "execution_count": 33,
     "metadata": {},
     "output_type": "execute_result"
    }
   ],
   "source": [
    "X, y = df.drop(['T2'], axis = 1).values, df['T2'].values\n",
    "\n",
    "X_train, X_test, y_train, y_test = train_test_split(X, y, test_size = 0.3,random_state = 42)\n",
    "\n",
    "#res= clf._predict_proba_lr(X_test,Y_test)\n",
    "\n",
    "X_train.shape"
   ]
  },
  {
   "cell_type": "code",
   "execution_count": 34,
   "id": "ed878cdb",
   "metadata": {},
   "outputs": [],
   "source": [
    "scaler = StandardScaler()"
   ]
  },
  {
   "cell_type": "code",
   "execution_count": 35,
   "id": "0ddb551c",
   "metadata": {},
   "outputs": [],
   "source": [
    "X_train_scaled = scaler.fit_transform(X_train)\n",
    "X_test_scaled = scaler.transform(X_test)"
   ]
  },
  {
   "cell_type": "code",
   "execution_count": 36,
   "id": "eb664d35",
   "metadata": {},
   "outputs": [
    {
     "data": {
      "text/plain": [
       "(655, 11)"
      ]
     },
     "execution_count": 36,
     "metadata": {},
     "output_type": "execute_result"
    }
   ],
   "source": [
    "X_train_scaled.shape"
   ]
  },
  {
   "cell_type": "code",
   "execution_count": 37,
   "id": "869b4dd1",
   "metadata": {},
   "outputs": [
    {
     "data": {
      "text/plain": [
       "(281, 11)"
      ]
     },
     "execution_count": 37,
     "metadata": {},
     "output_type": "execute_result"
    }
   ],
   "source": [
    "X_test_scaled.shape"
   ]
  },
  {
   "cell_type": "code",
   "execution_count": 38,
   "id": "274c0ca1",
   "metadata": {},
   "outputs": [],
   "source": [
    "def train_validate_report(model, X_train_scaled, y_train, X_test_scaled, y_test, feature_names):\n",
    "    \n",
    "    model.fit(X_train_scaled, y_train)\n",
    "    \n",
    "    print('MAE:', mean_absolute_error(y_test, model.predict(X_test_scaled)))\n",
    "    print('MSE:', mean_squared_error(y_test, model.predict(X_test_scaled)))\n",
    "    print('RMSE:', np.sqrt(mean_squared_error(y_test, model.predict(X_test_scaled))))\n",
    "    \n",
    "    print(pd.DataFrame(model.coef_, feature_names, columns = ['coef']).sort_values(\n",
    "        by = 'coef', ascending = False))"
   ]
  },
  {
   "cell_type": "code",
   "execution_count": 39,
   "id": "afe7df67",
   "metadata": {},
   "outputs": [],
   "source": [
    "lasso = Lasso(random_state = 17)\n",
    "ridge = Ridge(random_state = 17)\n",
    "lasso_cv = LassoCV(random_state = 17)\n",
    "ridge_cv = RidgeCV()"
   ]
  },
  {
   "cell_type": "code",
   "execution_count": 40,
   "id": "7a674889",
   "metadata": {},
   "outputs": [
    {
     "name": "stdout",
     "output_type": "stream",
     "text": [
      "MAE: 2.3986344930417918\n",
      "MSE: 8.765901841522709\n",
      "RMSE: 2.960726573245613\n",
      "    coef\n",
      "T1  -0.0\n",
      "F1  -0.0\n",
      "F2   0.0\n",
      "F3  -0.0\n",
      "F4   0.0\n",
      "F5   0.0\n",
      "F6   0.0\n",
      "T2  -0.0\n",
      "T3   0.0\n",
      "F7  -0.0\n",
      "F9   0.0\n"
     ]
    }
   ],
   "source": [
    "train_validate_report(lasso, X_train_scaled, y_train, X_test_scaled, y_test, \n",
    "                      feature_names = df.columns[:-1])"
   ]
  },
  {
   "cell_type": "code",
   "execution_count": 12,
   "id": "d8c4e9a1",
   "metadata": {},
   "outputs": [
    {
     "name": "stdout",
     "output_type": "stream",
     "text": [
      "MAE: 2.4182609859719615\n",
      "MSE: 8.776976606130868\n",
      "RMSE: 2.9625962610742063\n",
      "        coef\n",
      "F2  0.174437\n",
      "F4  0.169266\n",
      "F6  0.135203\n",
      "T3  0.127073\n",
      "F9  0.096131\n",
      "F5  0.014689\n",
      "F1 -0.061166\n",
      "T2 -0.064422\n",
      "F7 -0.072487\n",
      "T1 -0.111564\n",
      "F3 -0.168502\n"
     ]
    }
   ],
   "source": [
    "train_validate_report(ridge, X_train_scaled, y_train, X_test_scaled, y_test, feature_names = df.columns[:-1])"
   ]
  },
  {
   "cell_type": "code",
   "execution_count": 13,
   "id": "3347c47b",
   "metadata": {},
   "outputs": [
    {
     "name": "stdout",
     "output_type": "stream",
     "text": [
      "MAE: 2.3986344930417918\n",
      "MSE: 8.765901841522709\n",
      "RMSE: 2.960726573245613\n",
      "            coef\n",
      "F2  6.508788e-17\n",
      "T1 -0.000000e+00\n",
      "F1 -0.000000e+00\n",
      "F3 -0.000000e+00\n",
      "F4  0.000000e+00\n",
      "F5  0.000000e+00\n",
      "F6  0.000000e+00\n",
      "T2 -0.000000e+00\n",
      "T3  0.000000e+00\n",
      "F7 -0.000000e+00\n",
      "F9  0.000000e+00\n"
     ]
    }
   ],
   "source": [
    "train_validate_report(lasso_cv, X_train_scaled, y_train, X_test_scaled, y_test, feature_names = df.columns[:-1])"
   ]
  },
  {
   "cell_type": "code",
   "execution_count": 14,
   "id": "732765fa",
   "metadata": {},
   "outputs": [
    {
     "name": "stdout",
     "output_type": "stream",
     "text": [
      "MAE: 2.417859597558593\n",
      "MSE: 8.774790315131943\n",
      "RMSE: 2.9622272558215283\n",
      "        coef\n",
      "F2  0.171922\n",
      "F4  0.166719\n",
      "F6  0.133023\n",
      "T3  0.125163\n",
      "F9  0.094671\n",
      "F5  0.014611\n",
      "F1 -0.059813\n",
      "T2 -0.063016\n",
      "F7 -0.071267\n",
      "T1 -0.109882\n",
      "F3 -0.165828\n"
     ]
    }
   ],
   "source": [
    "train_validate_report(ridge_cv, X_train_scaled, y_train, X_test_scaled, y_test, feature_names = df.columns[:-1])"
   ]
  },
  {
   "cell_type": "markdown",
   "id": "d41788f5",
   "metadata": {},
   "source": [
    "2. На важных признаках"
   ]
  },
  {
   "cell_type": "code",
   "execution_count": 15,
   "id": "89bf68ca",
   "metadata": {},
   "outputs": [
    {
     "data": {
      "text/plain": [
       "(655, 5)"
      ]
     },
     "execution_count": 15,
     "metadata": {},
     "output_type": "execute_result"
    }
   ],
   "source": [
    "df_1 = df.drop(['T2', 'F1', 'F2', 'T1', 'F5', 'T3', 'F10'], axis = 1)\n",
    "X, y = df_1.values, df['T2'].values\n",
    "\n",
    "X_train, X_test, y_train, y_test = train_test_split(X, y, test_size = 0.3,random_state = 42)\n",
    "\n",
    "#res= clf._predict_proba_lr(X_test,Y_test)\n",
    "\n",
    "X_train.shape"
   ]
  },
  {
   "cell_type": "code",
   "execution_count": 16,
   "id": "7656a301",
   "metadata": {},
   "outputs": [],
   "source": [
    "X_train_scaled = scaler.fit_transform(X_train)\n",
    "X_test_scaled = scaler.transform(X_test)"
   ]
  },
  {
   "cell_type": "code",
   "execution_count": 17,
   "id": "0de67ea6",
   "metadata": {},
   "outputs": [],
   "source": [
    "def train_validate_report(model, X_train_scaled, y_train, X_test_scaled, y_test, feature_names):\n",
    "    \n",
    "    model.fit(X_train_scaled, y_train)\n",
    "    \n",
    "    print('MAE:', mean_absolute_error(y_test, model.predict(X_test_scaled)))\n",
    "    print('MSE:', mean_squared_error(y_test, model.predict(X_test_scaled)))\n",
    "    print('RMSE:', np.sqrt(mean_squared_error(y_test, model.predict(X_test_scaled))))\n",
    "    \n",
    "    print(pd.DataFrame(model.coef_, feature_names, columns = ['coef']).sort_values(by = 'coef', ascending = False))"
   ]
  },
  {
   "cell_type": "code",
   "execution_count": 18,
   "id": "847be13a",
   "metadata": {},
   "outputs": [
    {
     "name": "stdout",
     "output_type": "stream",
     "text": [
      "MAE: 2.3920933436025504\n",
      "MSE: 8.666974694942374\n",
      "RMSE: 2.9439726043124743\n",
      "        coef\n",
      "F4  0.153404\n",
      "F6  0.127902\n",
      "F7  0.120786\n",
      "F9 -0.065374\n",
      "F3 -0.153397\n"
     ]
    }
   ],
   "source": [
    "train_validate_report(ridge_cv, X_train_scaled, y_train, X_test_scaled, y_test, feature_names = df_1.columns[:])"
   ]
  },
  {
   "cell_type": "markdown",
   "id": "323d11c2",
   "metadata": {},
   "source": [
    "Второй вариант"
   ]
  },
  {
   "cell_type": "code",
   "execution_count": 19,
   "id": "d2c898e0",
   "metadata": {},
   "outputs": [
    {
     "data": {
      "text/plain": [
       "(655, 7)"
      ]
     },
     "execution_count": 19,
     "metadata": {},
     "output_type": "execute_result"
    }
   ],
   "source": [
    "df_2 = df.drop(['T2', 'F1', 'T1', 'F5', 'F10'], axis = 1)\n",
    "X, y = df_2.values, df['T2'].values\n",
    "\n",
    "X_train, X_test, y_train, y_test = train_test_split(X, y, test_size = 0.3,random_state = 42)\n",
    "\n",
    "#res= clf._predict_proba_lr(X_test,Y_test)\n",
    "\n",
    "X_train.shape"
   ]
  },
  {
   "cell_type": "code",
   "execution_count": 20,
   "id": "835ebbef",
   "metadata": {},
   "outputs": [],
   "source": [
    "X_train_scaled = scaler.fit_transform(X_train)\n",
    "X_test_scaled = scaler.transform(X_test)"
   ]
  },
  {
   "cell_type": "code",
   "execution_count": 21,
   "id": "a1773d04",
   "metadata": {},
   "outputs": [],
   "source": [
    "def train_validate_report(model, X_train_scaled, y_train, X_test_scaled, y_test, feature_names):\n",
    "    \n",
    "    model.fit(X_train_scaled, y_train)\n",
    "    \n",
    "    print('MAE:', mean_absolute_error(y_test, model.predict(X_test_scaled)))\n",
    "    print('MSE:', mean_squared_error(y_test, model.predict(X_test_scaled)))\n",
    "    print('RMSE:', np.sqrt(mean_squared_error(y_test, model.predict(X_test_scaled))))\n",
    "    \n",
    "    print(pd.DataFrame(model.coef_, feature_names, columns = ['coef']).sort_values(by = 'coef', ascending = False))"
   ]
  },
  {
   "cell_type": "code",
   "execution_count": 22,
   "id": "cea4b7d0",
   "metadata": {},
   "outputs": [
    {
     "name": "stdout",
     "output_type": "stream",
     "text": [
      "MAE: 2.4091779168014202\n",
      "MSE: 8.765646670396103\n",
      "RMSE: 2.9606834802788535\n",
      "        coef\n",
      "F2  0.173727\n",
      "F4  0.159520\n",
      "F6  0.125949\n",
      "F7  0.118288\n",
      "T3 -0.058801\n",
      "F9 -0.075542\n",
      "F3 -0.161315\n"
     ]
    }
   ],
   "source": [
    "train_validate_report(ridge_cv, X_train_scaled, y_train, X_test_scaled, y_test, feature_names = df_2.columns[:])"
   ]
  },
  {
   "cell_type": "code",
   "execution_count": null,
   "id": "f281b5be",
   "metadata": {},
   "outputs": [],
   "source": []
  }
 ],
 "metadata": {
  "kernelspec": {
   "display_name": "Python 3 (ipykernel)",
   "language": "python",
   "name": "python3"
  },
  "language_info": {
   "codemirror_mode": {
    "name": "ipython",
    "version": 3
   },
   "file_extension": ".py",
   "mimetype": "text/x-python",
   "name": "python",
   "nbconvert_exporter": "python",
   "pygments_lexer": "ipython3",
   "version": "3.9.7"
  }
 },
 "nbformat": 4,
 "nbformat_minor": 5
}
