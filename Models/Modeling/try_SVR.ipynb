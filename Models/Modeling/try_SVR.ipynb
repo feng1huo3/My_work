{
 "cells": [
  {
   "cell_type": "markdown",
   "id": "9b5eb451",
   "metadata": {},
   "source": [
    "# Попытка SVR"
   ]
  },
  {
   "cell_type": "code",
   "execution_count": 1,
   "id": "a0c99c4a",
   "metadata": {},
   "outputs": [],
   "source": [
    "import numpy as np\n",
    "import pandas as pd\n",
    "from sklearn import svm\n",
    "from sklearn.svm import SVR\n",
    "import matplotlib.pyplot as plt\n",
    "from sklearn.model_selection import train_test_split"
   ]
  },
  {
   "cell_type": "code",
   "execution_count": 2,
   "id": "85244ef6",
   "metadata": {},
   "outputs": [
    {
     "data": {
      "text/html": [
       "<div>\n",
       "<style scoped>\n",
       "    .dataframe tbody tr th:only-of-type {\n",
       "        vertical-align: middle;\n",
       "    }\n",
       "\n",
       "    .dataframe tbody tr th {\n",
       "        vertical-align: top;\n",
       "    }\n",
       "\n",
       "    .dataframe thead th {\n",
       "        text-align: right;\n",
       "    }\n",
       "</style>\n",
       "<table border=\"1\" class=\"dataframe\">\n",
       "  <thead>\n",
       "    <tr style=\"text-align: right;\">\n",
       "      <th></th>\n",
       "      <th>T1</th>\n",
       "      <th>F1</th>\n",
       "      <th>F2</th>\n",
       "      <th>F3</th>\n",
       "      <th>F4</th>\n",
       "      <th>F5</th>\n",
       "      <th>F6</th>\n",
       "      <th>T2</th>\n",
       "      <th>T3</th>\n",
       "      <th>F7</th>\n",
       "      <th>F9</th>\n",
       "      <th>F10</th>\n",
       "    </tr>\n",
       "  </thead>\n",
       "  <tbody>\n",
       "    <tr>\n",
       "      <th>884.0</th>\n",
       "      <td>3.536230</td>\n",
       "      <td>1813.684114</td>\n",
       "      <td>37.954595</td>\n",
       "      <td>135.867682</td>\n",
       "      <td>18.838845</td>\n",
       "      <td>262.002852</td>\n",
       "      <td>42.406085</td>\n",
       "      <td>76.850058</td>\n",
       "      <td>2505.540449</td>\n",
       "      <td>205.074741</td>\n",
       "      <td>4.088461</td>\n",
       "      <td>50.860097</td>\n",
       "    </tr>\n",
       "    <tr>\n",
       "      <th>936.0</th>\n",
       "      <td>2.807028</td>\n",
       "      <td>2029.296906</td>\n",
       "      <td>993.859728</td>\n",
       "      <td>74.690667</td>\n",
       "      <td>27.292550</td>\n",
       "      <td>226.555876</td>\n",
       "      <td>547.516759</td>\n",
       "      <td>71.680994</td>\n",
       "      <td>2528.082238</td>\n",
       "      <td>220.732220</td>\n",
       "      <td>0.037639</td>\n",
       "      <td>59.156843</td>\n",
       "    </tr>\n",
       "    <tr>\n",
       "      <th>602.0</th>\n",
       "      <td>4.199403</td>\n",
       "      <td>1973.753494</td>\n",
       "      <td>186.274750</td>\n",
       "      <td>145.866675</td>\n",
       "      <td>20.218890</td>\n",
       "      <td>223.850528</td>\n",
       "      <td>464.720310</td>\n",
       "      <td>71.708566</td>\n",
       "      <td>2474.731951</td>\n",
       "      <td>187.933134</td>\n",
       "      <td>1.700748</td>\n",
       "      <td>72.209739</td>\n",
       "    </tr>\n",
       "    <tr>\n",
       "      <th>698.0</th>\n",
       "      <td>2.643124</td>\n",
       "      <td>1988.098999</td>\n",
       "      <td>1097.244899</td>\n",
       "      <td>86.510595</td>\n",
       "      <td>23.337462</td>\n",
       "      <td>275.650034</td>\n",
       "      <td>274.154374</td>\n",
       "      <td>73.897695</td>\n",
       "      <td>2339.869511</td>\n",
       "      <td>243.579227</td>\n",
       "      <td>10.853242</td>\n",
       "      <td>54.193898</td>\n",
       "    </tr>\n",
       "    <tr>\n",
       "      <th>518.0</th>\n",
       "      <td>2.586856</td>\n",
       "      <td>1863.397652</td>\n",
       "      <td>691.776020</td>\n",
       "      <td>105.714345</td>\n",
       "      <td>23.981928</td>\n",
       "      <td>312.548890</td>\n",
       "      <td>373.717123</td>\n",
       "      <td>78.925612</td>\n",
       "      <td>2729.521348</td>\n",
       "      <td>272.580746</td>\n",
       "      <td>5.364836</td>\n",
       "      <td>72.400851</td>\n",
       "    </tr>\n",
       "  </tbody>\n",
       "</table>\n",
       "</div>"
      ],
      "text/plain": [
       "             T1           F1           F2          F3         F4          F5  \\\n",
       "884.0  3.536230  1813.684114    37.954595  135.867682  18.838845  262.002852   \n",
       "936.0  2.807028  2029.296906   993.859728   74.690667  27.292550  226.555876   \n",
       "602.0  4.199403  1973.753494   186.274750  145.866675  20.218890  223.850528   \n",
       "698.0  2.643124  1988.098999  1097.244899   86.510595  23.337462  275.650034   \n",
       "518.0  2.586856  1863.397652   691.776020  105.714345  23.981928  312.548890   \n",
       "\n",
       "               F6         T2           T3          F7         F9        F10  \n",
       "884.0   42.406085  76.850058  2505.540449  205.074741   4.088461  50.860097  \n",
       "936.0  547.516759  71.680994  2528.082238  220.732220   0.037639  59.156843  \n",
       "602.0  464.720310  71.708566  2474.731951  187.933134   1.700748  72.209739  \n",
       "698.0  274.154374  73.897695  2339.869511  243.579227  10.853242  54.193898  \n",
       "518.0  373.717123  78.925612  2729.521348  272.580746   5.364836  72.400851  "
      ]
     },
     "execution_count": 2,
     "metadata": {},
     "output_type": "execute_result"
    }
   ],
   "source": [
    "df = pd.read_csv('data_model.csv', index_col = 0)\n",
    "df.sample(5)"
   ]
  },
  {
   "cell_type": "code",
   "execution_count": 3,
   "id": "2071b631",
   "metadata": {},
   "outputs": [],
   "source": [
    "df = df.drop(['F6', 'F10', 'F4', 'F5', 'T2'], axis = 1)"
   ]
  },
  {
   "cell_type": "code",
   "execution_count": 4,
   "id": "29100377",
   "metadata": {},
   "outputs": [
    {
     "data": {
      "text/html": [
       "<div>\n",
       "<style scoped>\n",
       "    .dataframe tbody tr th:only-of-type {\n",
       "        vertical-align: middle;\n",
       "    }\n",
       "\n",
       "    .dataframe tbody tr th {\n",
       "        vertical-align: top;\n",
       "    }\n",
       "\n",
       "    .dataframe thead th {\n",
       "        text-align: right;\n",
       "    }\n",
       "</style>\n",
       "<table border=\"1\" class=\"dataframe\">\n",
       "  <thead>\n",
       "    <tr style=\"text-align: right;\">\n",
       "      <th></th>\n",
       "      <th>T1</th>\n",
       "      <th>F1</th>\n",
       "      <th>F2</th>\n",
       "      <th>F3</th>\n",
       "      <th>T3</th>\n",
       "      <th>F7</th>\n",
       "      <th>F9</th>\n",
       "    </tr>\n",
       "  </thead>\n",
       "  <tbody>\n",
       "    <tr>\n",
       "      <th>1.0</th>\n",
       "      <td>1.857143</td>\n",
       "      <td>2030.0</td>\n",
       "      <td>738.736842</td>\n",
       "      <td>50.00</td>\n",
       "      <td>3000.0</td>\n",
       "      <td>220.0</td>\n",
       "      <td>4.0</td>\n",
       "    </tr>\n",
       "    <tr>\n",
       "      <th>3.0</th>\n",
       "      <td>1.857143</td>\n",
       "      <td>2030.0</td>\n",
       "      <td>738.736842</td>\n",
       "      <td>129.00</td>\n",
       "      <td>3000.0</td>\n",
       "      <td>220.0</td>\n",
       "      <td>5.0</td>\n",
       "    </tr>\n",
       "    <tr>\n",
       "      <th>4.0</th>\n",
       "      <td>2.771331</td>\n",
       "      <td>2030.0</td>\n",
       "      <td>753.000000</td>\n",
       "      <td>111.86</td>\n",
       "      <td>3000.0</td>\n",
       "      <td>220.0</td>\n",
       "      <td>5.0</td>\n",
       "    </tr>\n",
       "    <tr>\n",
       "      <th>5.0</th>\n",
       "      <td>2.767918</td>\n",
       "      <td>2000.0</td>\n",
       "      <td>748.000000</td>\n",
       "      <td>111.86</td>\n",
       "      <td>3000.0</td>\n",
       "      <td>220.0</td>\n",
       "      <td>5.0</td>\n",
       "    </tr>\n",
       "    <tr>\n",
       "      <th>6.0</th>\n",
       "      <td>2.569620</td>\n",
       "      <td>1910.0</td>\n",
       "      <td>807.000000</td>\n",
       "      <td>111.86</td>\n",
       "      <td>3000.0</td>\n",
       "      <td>220.0</td>\n",
       "      <td>5.0</td>\n",
       "    </tr>\n",
       "  </tbody>\n",
       "</table>\n",
       "</div>"
      ],
      "text/plain": [
       "           T1      F1          F2      F3      T3     F7   F9\n",
       "1.0  1.857143  2030.0  738.736842   50.00  3000.0  220.0  4.0\n",
       "3.0  1.857143  2030.0  738.736842  129.00  3000.0  220.0  5.0\n",
       "4.0  2.771331  2030.0  753.000000  111.86  3000.0  220.0  5.0\n",
       "5.0  2.767918  2000.0  748.000000  111.86  3000.0  220.0  5.0\n",
       "6.0  2.569620  1910.0  807.000000  111.86  3000.0  220.0  5.0"
      ]
     },
     "execution_count": 4,
     "metadata": {},
     "output_type": "execute_result"
    }
   ],
   "source": [
    "df.head()"
   ]
  },
  {
   "cell_type": "code",
   "execution_count": 5,
   "id": "744fb82f",
   "metadata": {},
   "outputs": [],
   "source": [
    "ds = df.values\n",
    "X = ds[:,0:6]\n",
    "y = ds[:, 4]"
   ]
  },
  {
   "cell_type": "code",
   "execution_count": 6,
   "id": "3935ef05",
   "metadata": {},
   "outputs": [
    {
     "data": {
      "text/plain": [
       "SVR()"
      ]
     },
     "execution_count": 6,
     "metadata": {},
     "output_type": "execute_result"
    }
   ],
   "source": [
    "regr = svm.SVR()\n",
    "regr.fit(X, y)"
   ]
  },
  {
   "cell_type": "code",
   "execution_count": 7,
   "id": "ee8d52a4",
   "metadata": {},
   "outputs": [
    {
     "data": {
      "text/plain": [
       "array([2354.70503986])"
      ]
     },
     "execution_count": 7,
     "metadata": {},
     "output_type": "execute_result"
    }
   ],
   "source": [
    "regr.predict([[1.857143, 2030.0, 738.736842, 50.00, 220.0, 4.0]])"
   ]
  },
  {
   "cell_type": "code",
   "execution_count": null,
   "id": "4664b7cf",
   "metadata": {},
   "outputs": [],
   "source": []
  },
  {
   "cell_type": "code",
   "execution_count": null,
   "id": "4392d654",
   "metadata": {},
   "outputs": [],
   "source": []
  }
 ],
 "metadata": {
  "kernelspec": {
   "display_name": "Python 3 (ipykernel)",
   "language": "python",
   "name": "python3"
  },
  "language_info": {
   "codemirror_mode": {
    "name": "ipython",
    "version": 3
   },
   "file_extension": ".py",
   "mimetype": "text/x-python",
   "name": "python",
   "nbconvert_exporter": "python",
   "pygments_lexer": "ipython3",
   "version": "3.9.7"
  }
 },
 "nbformat": 4,
 "nbformat_minor": 5
}
