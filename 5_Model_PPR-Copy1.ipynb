{
 "cells": [
  {
   "cell_type": "code",
   "execution_count": 1,
   "id": "e0647ce0",
   "metadata": {},
   "outputs": [],
   "source": [
    "import numpy as np\n",
    "import pandas as pd\n",
    "import statsmodels.api as sm\n",
    "import statsmodels.formula.api as smf\n",
    "import matplotlib.pyplot as plt"
   ]
  },
  {
   "cell_type": "code",
   "execution_count": 2,
   "id": "e49c3e33",
   "metadata": {},
   "outputs": [
    {
     "data": {
      "text/html": [
       "<div>\n",
       "<style scoped>\n",
       "    .dataframe tbody tr th:only-of-type {\n",
       "        vertical-align: middle;\n",
       "    }\n",
       "\n",
       "    .dataframe tbody tr th {\n",
       "        vertical-align: top;\n",
       "    }\n",
       "\n",
       "    .dataframe thead th {\n",
       "        text-align: right;\n",
       "    }\n",
       "</style>\n",
       "<table border=\"1\" class=\"dataframe\">\n",
       "  <thead>\n",
       "    <tr style=\"text-align: right;\">\n",
       "      <th></th>\n",
       "      <th>T1</th>\n",
       "      <th>F1</th>\n",
       "      <th>F2</th>\n",
       "      <th>F3</th>\n",
       "      <th>F4</th>\n",
       "      <th>F5</th>\n",
       "      <th>F6</th>\n",
       "      <th>T2</th>\n",
       "      <th>T3</th>\n",
       "      <th>F7</th>\n",
       "      <th>F8</th>\n",
       "      <th>F9</th>\n",
       "      <th>F10</th>\n",
       "    </tr>\n",
       "  </thead>\n",
       "  <tbody>\n",
       "    <tr>\n",
       "      <th>820.0</th>\n",
       "      <td>0.596783</td>\n",
       "      <td>1930.389172</td>\n",
       "      <td>789.798256</td>\n",
       "      <td>64.812581</td>\n",
       "      <td>20.749293</td>\n",
       "      <td>264.844169</td>\n",
       "      <td>589.344541</td>\n",
       "      <td>78.598663</td>\n",
       "      <td>2051.958320</td>\n",
       "      <td>307.363639</td>\n",
       "      <td>1.0</td>\n",
       "      <td>11.046367</td>\n",
       "      <td>68.112439</td>\n",
       "    </tr>\n",
       "    <tr>\n",
       "      <th>302.0</th>\n",
       "      <td>3.627405</td>\n",
       "      <td>1991.091938</td>\n",
       "      <td>652.401598</td>\n",
       "      <td>130.853934</td>\n",
       "      <td>20.732132</td>\n",
       "      <td>234.500692</td>\n",
       "      <td>353.471451</td>\n",
       "      <td>73.390029</td>\n",
       "      <td>2748.078194</td>\n",
       "      <td>132.911274</td>\n",
       "      <td>0.0</td>\n",
       "      <td>12.723886</td>\n",
       "      <td>68.647153</td>\n",
       "    </tr>\n",
       "    <tr>\n",
       "      <th>755.0</th>\n",
       "      <td>3.104559</td>\n",
       "      <td>1858.862775</td>\n",
       "      <td>307.232901</td>\n",
       "      <td>84.541511</td>\n",
       "      <td>27.920843</td>\n",
       "      <td>223.294202</td>\n",
       "      <td>415.463131</td>\n",
       "      <td>70.713530</td>\n",
       "      <td>2347.684613</td>\n",
       "      <td>248.318925</td>\n",
       "      <td>1.0</td>\n",
       "      <td>7.213099</td>\n",
       "      <td>50.353296</td>\n",
       "    </tr>\n",
       "    <tr>\n",
       "      <th>735.0</th>\n",
       "      <td>1.397467</td>\n",
       "      <td>2005.502050</td>\n",
       "      <td>755.383225</td>\n",
       "      <td>88.536497</td>\n",
       "      <td>23.864561</td>\n",
       "      <td>245.543354</td>\n",
       "      <td>264.281505</td>\n",
       "      <td>80.691499</td>\n",
       "      <td>2404.068921</td>\n",
       "      <td>184.661639</td>\n",
       "      <td>1.0</td>\n",
       "      <td>4.385964</td>\n",
       "      <td>59.485083</td>\n",
       "    </tr>\n",
       "    <tr>\n",
       "      <th>217.0</th>\n",
       "      <td>4.414416</td>\n",
       "      <td>1901.586009</td>\n",
       "      <td>1000.289288</td>\n",
       "      <td>98.244089</td>\n",
       "      <td>24.481028</td>\n",
       "      <td>288.401849</td>\n",
       "      <td>399.870134</td>\n",
       "      <td>81.203147</td>\n",
       "      <td>2371.299242</td>\n",
       "      <td>251.359279</td>\n",
       "      <td>0.0</td>\n",
       "      <td>2.511647</td>\n",
       "      <td>75.348275</td>\n",
       "    </tr>\n",
       "  </tbody>\n",
       "</table>\n",
       "</div>"
      ],
      "text/plain": [
       "             T1           F1           F2          F3         F4          F5  \\\n",
       "820.0  0.596783  1930.389172   789.798256   64.812581  20.749293  264.844169   \n",
       "302.0  3.627405  1991.091938   652.401598  130.853934  20.732132  234.500692   \n",
       "755.0  3.104559  1858.862775   307.232901   84.541511  27.920843  223.294202   \n",
       "735.0  1.397467  2005.502050   755.383225   88.536497  23.864561  245.543354   \n",
       "217.0  4.414416  1901.586009  1000.289288   98.244089  24.481028  288.401849   \n",
       "\n",
       "               F6         T2           T3          F7   F8         F9  \\\n",
       "820.0  589.344541  78.598663  2051.958320  307.363639  1.0  11.046367   \n",
       "302.0  353.471451  73.390029  2748.078194  132.911274  0.0  12.723886   \n",
       "755.0  415.463131  70.713530  2347.684613  248.318925  1.0   7.213099   \n",
       "735.0  264.281505  80.691499  2404.068921  184.661639  1.0   4.385964   \n",
       "217.0  399.870134  81.203147  2371.299242  251.359279  0.0   2.511647   \n",
       "\n",
       "             F10  \n",
       "820.0  68.112439  \n",
       "302.0  68.647153  \n",
       "755.0  50.353296  \n",
       "735.0  59.485083  \n",
       "217.0  75.348275  "
      ]
     },
     "execution_count": 2,
     "metadata": {},
     "output_type": "execute_result"
    }
   ],
   "source": [
    "df = pd.read_csv('data_model.csv', index_col = 0)\n",
    "df.sample(5)"
   ]
  },
  {
   "cell_type": "code",
   "execution_count": 8,
   "id": "c99c199b",
   "metadata": {},
   "outputs": [],
   "source": [
    "x = df[\"T1\"]"
   ]
  },
  {
   "cell_type": "code",
   "execution_count": 9,
   "id": "908c447e",
   "metadata": {},
   "outputs": [],
   "source": [
    "y = df[\"T3\"]"
   ]
  },
  {
   "cell_type": "code",
   "execution_count": 10,
   "id": "b28f297a",
   "metadata": {},
   "outputs": [
    {
     "data": {
      "text/html": [
       "<div>\n",
       "<style scoped>\n",
       "    .dataframe tbody tr th:only-of-type {\n",
       "        vertical-align: middle;\n",
       "    }\n",
       "\n",
       "    .dataframe tbody tr th {\n",
       "        vertical-align: top;\n",
       "    }\n",
       "\n",
       "    .dataframe thead th {\n",
       "        text-align: right;\n",
       "    }\n",
       "</style>\n",
       "<table border=\"1\" class=\"dataframe\">\n",
       "  <thead>\n",
       "    <tr style=\"text-align: right;\">\n",
       "      <th></th>\n",
       "      <th>Соотношение</th>\n",
       "      <th>Прочность</th>\n",
       "    </tr>\n",
       "  </thead>\n",
       "  <tbody>\n",
       "    <tr>\n",
       "      <th>0.0</th>\n",
       "      <td>1.857143</td>\n",
       "      <td>3000.0</td>\n",
       "    </tr>\n",
       "    <tr>\n",
       "      <th>1.0</th>\n",
       "      <td>1.857143</td>\n",
       "      <td>3000.0</td>\n",
       "    </tr>\n",
       "    <tr>\n",
       "      <th>2.0</th>\n",
       "      <td>1.857143</td>\n",
       "      <td>3000.0</td>\n",
       "    </tr>\n",
       "    <tr>\n",
       "      <th>3.0</th>\n",
       "      <td>1.857143</td>\n",
       "      <td>3000.0</td>\n",
       "    </tr>\n",
       "    <tr>\n",
       "      <th>4.0</th>\n",
       "      <td>2.771331</td>\n",
       "      <td>3000.0</td>\n",
       "    </tr>\n",
       "  </tbody>\n",
       "</table>\n",
       "</div>"
      ],
      "text/plain": [
       "     Соотношение  Прочность\n",
       "0.0     1.857143     3000.0\n",
       "1.0     1.857143     3000.0\n",
       "2.0     1.857143     3000.0\n",
       "3.0     1.857143     3000.0\n",
       "4.0     2.771331     3000.0"
      ]
     },
     "execution_count": 10,
     "metadata": {},
     "output_type": "execute_result"
    }
   ],
   "source": [
    "dt = pd.DataFrame({'Соотношение' : x, 'Прочность' : y})\n",
    "dt.head()"
   ]
  },
  {
   "cell_type": "markdown",
   "id": "c98e9b25",
   "metadata": {},
   "source": [
    "Далее мы подгоним модель квантильной регрессии, используя соотношение в качестве переменной-предиктора и прочность в качестве переменной-ответа.\n",
    "\n",
    "Мы будем использовать модель для прогнозирования ожидаемого 90-го процентиля прочности на основе соотношения:"
   ]
  },
  {
   "cell_type": "code",
   "execution_count": 11,
   "id": "29fb1907",
   "metadata": {},
   "outputs": [
    {
     "name": "stdout",
     "output_type": "stream",
     "text": [
      "                         QuantReg Regression Results                          \n",
      "==============================================================================\n",
      "Dep. Variable:                      y   Pseudo R-squared:             0.003942\n",
      "Model:                       QuantReg   Bandwidth:                       191.2\n",
      "Method:                 Least Squares   Sparsity:                        2750.\n",
      "Date:                Mon, 25 Apr 2022   No. Observations:                 1000\n",
      "Time:                        17:12:37   Df Residuals:                      998\n",
      "                                        Df Model:                            1\n",
      "==============================================================================\n",
      "                 coef    std err          t      P>|t|      [0.025      0.975]\n",
      "------------------------------------------------------------------------------\n",
      "Intercept   2908.8424     86.046     33.806      0.000    2739.991    3077.694\n",
      "x             49.0849     27.744      1.769      0.077      -5.358     103.528\n",
      "==============================================================================\n"
     ]
    }
   ],
   "source": [
    "#fit the model\n",
    "model = smf.quantreg('y ~ x', dt).fit(q=0.9)\n",
    "\n",
    "#view model summary\n",
    "print(model.summary())"
   ]
  },
  {
   "cell_type": "markdown",
   "id": "ccd7978f",
   "metadata": {},
   "source": [
    "Мы также можем визуализировать результаты регрессии, создав диаграмму рассеяния с подобранным уравнением квантильной регрессии, наложенным на график:"
   ]
  },
  {
   "cell_type": "code",
   "execution_count": 16,
   "id": "b0967b35",
   "metadata": {},
   "outputs": [
    {
     "data": {
      "text/plain": [
       "Text(0, 0.5, 'Прочность')"
      ]
     },
     "execution_count": 16,
     "metadata": {},
     "output_type": "execute_result"
    },
    {
     "data": {
      "image/png": "[encoded data removed]",
      "text/plain": [
       "<Figure size 576x432 with 1 Axes>"
      ]
     },
     "metadata": {
      "needs_background": "light"
     },
     "output_type": "display_data"
    }
   ],
   "source": [
    "#define figure and axis\n",
    "fig, ax = plt.subplots(figsize=(8, 6))\n",
    "\n",
    "#get y values\n",
    "get_y = lambda a, b: a + b * x\n",
    "y = get_y(model.params['Intercept'], model.params['x'])\n",
    "\n",
    "#plot data points with quantile regression equation overlaid\n",
    "ax.plot(x, y, color='black')\n",
    "ax.scatter(x, y, alpha=.3)\n",
    "ax.set_xlabel('Соотношение', fontsize=14)\n",
    "ax.set_ylabel('Прочность', fontsize=14)"
   ]
  },
  {
   "cell_type": "code",
   "execution_count": null,
   "id": "44d4d6cf",
   "metadata": {},
   "outputs": [],
   "source": []
  },
  {
   "cell_type": "markdown",
   "id": "42e46211",
   "metadata": {},
   "source": [
    "Чтобы проиллюстрировать поведение квантильной регрессии, мы создадим два синтетических набора данных. Истинные генеративные случайные процессы для обоих наборов данных будут состоять из одного и того же ожидаемого значения с линейной зависимостью с одним признаком x."
   ]
  },
  {
   "cell_type": "code",
   "execution_count": 17,
   "id": "47b33cf2",
   "metadata": {},
   "outputs": [],
   "source": [
    "rng = np.random.RandomState(42)\n",
    "x = np.linspace(start=0, stop=10, num=100)\n",
    "X = x[:, np.newaxis]\n",
    "y_true_mean = 10 + 0.5 * x"
   ]
  },
  {
   "cell_type": "markdown",
   "id": "435472d0",
   "metadata": {},
   "source": [
    "Мы создадим две последующие проблемы, изменив распределение цели yпри сохранении того же ожидаемого значения:\n",
    "\n",
    "в первом случае добавляется гетероскедастический нормальный шум;\n",
    "\n",
    "во втором случае добавляется асимметричный шум Парето."
   ]
  },
  {
   "cell_type": "code",
   "execution_count": 18,
   "id": "1aae6a65",
   "metadata": {},
   "outputs": [],
   "source": [
    "y_normal = y_true_mean + rng.normal(loc=0, scale=0.5 + 0.5 * x, size=x.shape[0])\n",
    "a = 5\n",
    "y_pareto = y_true_mean + 10 * (rng.pareto(a, size=x.shape[0]) - 1 / (a - 1))"
   ]
  },
  {
   "cell_type": "markdown",
   "id": "aa45453a",
   "metadata": {},
   "source": [
    "Давайте сначала визуализируем наборы данных, а также распределение остатков .y - mean(y)"
   ]
  },
  {
   "cell_type": "code",
   "execution_count": 19,
   "id": "67f956a4",
   "metadata": {},
   "outputs": [
    {
     "data": {
      "image/png": "[encoded data removed]",
      "text/plain": [
       "<Figure size 1080x792 with 4 Axes>"
      ]
     },
     "metadata": {
      "needs_background": "light"
     },
     "output_type": "display_data"
    }
   ],
   "source": [
    "_, axs = plt.subplots(nrows=2, ncols=2, figsize=(15, 11), sharex=\"row\", sharey=\"row\")\n",
    "\n",
    "axs[0, 0].plot(x, y_true_mean, label=\"True mean\")\n",
    "axs[0, 0].scatter(x, y_normal, color=\"black\", alpha=0.5, label=\"Observations\")\n",
    "axs[1, 0].hist(y_true_mean - y_normal, edgecolor=\"black\")\n",
    "\n",
    "\n",
    "axs[0, 1].plot(x, y_true_mean, label=\"True mean\")\n",
    "axs[0, 1].scatter(x, y_pareto, color=\"black\", alpha=0.5, label=\"Observations\")\n",
    "axs[1, 1].hist(y_true_mean - y_pareto, edgecolor=\"black\")\n",
    "\n",
    "axs[0, 0].set_title(\"Dataset with heteroscedastic Normal distributed targets\")\n",
    "axs[0, 1].set_title(\"Dataset with asymmetric Pareto distributed target\")\n",
    "axs[1, 0].set_title(\n",
    "    \"Residuals distribution for heteroscedastic Normal distributed targets\"\n",
    ")\n",
    "axs[1, 1].set_title(\"Residuals distribution for asymmetric Pareto distributed target\")\n",
    "axs[0, 0].legend()\n",
    "axs[0, 1].legend()\n",
    "axs[0, 0].set_ylabel(\"y\")\n",
    "axs[1, 0].set_ylabel(\"Counts\")\n",
    "axs[0, 1].set_xlabel(\"x\")\n",
    "axs[0, 0].set_xlabel(\"x\")\n",
    "axs[1, 0].set_xlabel(\"Residuals\")\n",
    "_ = axs[1, 1].set_xlabel(\"Residuals\")"
   ]
  },
  {
   "cell_type": "markdown",
   "id": "a21faed1",
   "metadata": {},
   "source": [
    "С гетероскедастической нормально распределенной целью мы наблюдаем, что дисперсия шума увеличивается, когда значение признака xувеличивается.\n",
    "\n",
    "С асимметричной распределенной по Парето целью мы наблюдаем, что положительные остатки ограничены.\n",
    "\n",
    "Эти типы зашумленных целей делают оценку через LinearRegressionменее эффективной, т. е. нам нужно больше данных для получения стабильных результатов, и, кроме того, большие выбросы могут иметь огромное влияние на подобранные коэффициенты. (Иными словами: в условиях постоянной дисперсии обычные оценки методом наименьших квадратов сходятся к истинным коэффициентам намного быстрее с увеличением размера выборки.)\n",
    "\n",
    "В этой асимметричной настройке медиана или разные квантили дают дополнительную информацию. Кроме того, медианная оценка гораздо более устойчива к выбросам и распределениям с тяжелыми хвостами. Но обратите внимание, что экстремальные квантили оцениваются по очень важным точкам данных. 95% квантилей более или менее оцениваются по 5% наибольшим значениям и, таким образом, также являются немного чувствительными выбросами.\n",
    "\n",
    "В оставшейся части этого урока мы покажем, как QuantileRegressorэто можно использовать на практике, и дадим интуитивное представление о свойствах подогнанных моделей. Наконец, мы сравним оба QuantileRegressor и LinearRegression."
   ]
  },
  {
   "cell_type": "code",
   "execution_count": null,
   "id": "67cc2dbe",
   "metadata": {},
   "outputs": [],
   "source": []
  },
  {
   "cell_type": "code",
   "execution_count": null,
   "id": "ad01ab14",
   "metadata": {},
   "outputs": [],
   "source": []
  },
  {
   "cell_type": "markdown",
   "id": "682b5210",
   "metadata": {},
   "source": [
    "В этом разделе мы хотим оценить условную медиану, а также нижний и верхний квантили, фиксированные на уровне 5% и 95% соответственно. Таким образом, мы получим три линейные модели, по одной на каждый квантиль.\n",
    "\n",
    "Мы будем использовать квантили на уровне 5% и 95%, чтобы найти выбросы в обучающей выборке за пределами центрального интервала 90%."
   ]
  },
  {
   "cell_type": "code",
   "execution_count": 20,
   "id": "8122e9ed",
   "metadata": {},
   "outputs": [],
   "source": [
    "from sklearn.linear_model import QuantileRegressor\n",
    "\n",
    "quantiles = [0.05, 0.5, 0.95]\n",
    "predictions = {}\n",
    "out_bounds_predictions = np.zeros_like(y_true_mean, dtype=np.bool_)\n",
    "for quantile in quantiles:\n",
    "    qr = QuantileRegressor(quantile=quantile, alpha=0)\n",
    "    y_pred = qr.fit(X, y_normal).predict(X)\n",
    "    predictions[quantile] = y_pred\n",
    "\n",
    "    if quantile == min(quantiles):\n",
    "        out_bounds_predictions = np.logical_or(\n",
    "            out_bounds_predictions, y_pred >= y_normal\n",
    "        )\n",
    "    elif quantile == max(quantiles):\n",
    "        out_bounds_predictions = np.logical_or(\n",
    "            out_bounds_predictions, y_pred <= y_normal\n",
    "        )"
   ]
  },
  {
   "cell_type": "markdown",
   "id": "e601aa80",
   "metadata": {},
   "source": [
    "Теперь мы можем построить три линейные модели и выделенные выборки, которые находятся в пределах центрального 90-процентного интервала, из выборок, которые находятся за пределами этого интервала."
   ]
  },
  {
   "cell_type": "code",
   "execution_count": 21,
   "id": "f6f2c79b",
   "metadata": {},
   "outputs": [
    {
     "data": {
      "image/png": "[encoded data removed]",
      "text/plain": [
       "<Figure size 432x288 with 1 Axes>"
      ]
     },
     "metadata": {
      "needs_background": "light"
     },
     "output_type": "display_data"
    }
   ],
   "source": [
    "plt.plot(X, y_true_mean, color=\"black\", linestyle=\"dashed\", label=\"True mean\")\n",
    "\n",
    "for quantile, y_pred in predictions.items():\n",
    "    plt.plot(X, y_pred, label=f\"Quantile: {quantile}\")\n",
    "\n",
    "plt.scatter(\n",
    "    x[out_bounds_predictions],\n",
    "    y_normal[out_bounds_predictions],\n",
    "    color=\"black\",\n",
    "    marker=\"+\",\n",
    "    alpha=0.5,\n",
    "    label=\"Outside interval\",\n",
    ")\n",
    "plt.scatter(\n",
    "    x[~out_bounds_predictions],\n",
    "    y_normal[~out_bounds_predictions],\n",
    "    color=\"black\",\n",
    "    alpha=0.5,\n",
    "    label=\"Inside interval\",\n",
    ")\n",
    "\n",
    "plt.legend()\n",
    "plt.xlabel(\"x\")\n",
    "plt.ylabel(\"y\")\n",
    "_ = plt.title(\"Quantiles of heteroscedastic Normal distributed target\")"
   ]
  },
  {
   "cell_type": "markdown",
   "id": "7fb5140d",
   "metadata": {},
   "source": [
    "Поскольку шум по-прежнему имеет нормальное распределение, в частности, является симметричным, истинное условное среднее и истинное условное медиана совпадают. Действительно, мы видим, что предполагаемая медиана почти совпадает с истинным средним значением. Мы наблюдаем эффект увеличения дисперсии шума на квантилях 5% и 95%: наклоны этих квантилей сильно различаются, и интервал между ними становится шире с увеличением x.\n",
    "\n",
    "Чтобы получить дополнительную интуицию относительно значения оценок квантилей 5% и 95%, можно подсчитать количество выборок выше и ниже предсказанных квантилей (представленных крестом на графике выше), учитывая, что у нас есть в общей сложности 100 образцы.\n",
    "\n",
    "Мы можем повторить тот же эксперимент, используя асимметричную цель с распределением по Парето."
   ]
  },
  {
   "cell_type": "code",
   "execution_count": 22,
   "id": "be7be2c1",
   "metadata": {},
   "outputs": [],
   "source": [
    "quantiles = [0.05, 0.5, 0.95]\n",
    "predictions = {}\n",
    "out_bounds_predictions = np.zeros_like(y_true_mean, dtype=np.bool_)\n",
    "for quantile in quantiles:\n",
    "    qr = QuantileRegressor(quantile=quantile, alpha=0)\n",
    "    y_pred = qr.fit(X, y_pareto).predict(X)\n",
    "    predictions[quantile] = y_pred\n",
    "\n",
    "    if quantile == min(quantiles):\n",
    "        out_bounds_predictions = np.logical_or(\n",
    "            out_bounds_predictions, y_pred >= y_pareto\n",
    "        )\n",
    "    elif quantile == max(quantiles):\n",
    "        out_bounds_predictions = np.logical_or(\n",
    "            out_bounds_predictions, y_pred <= y_pareto\n",
    "        )"
   ]
  },
  {
   "cell_type": "code",
   "execution_count": 32,
   "id": "76f9a4a1",
   "metadata": {},
   "outputs": [
    {
     "data": {
      "image/png": "[encoded data removed]",
      "text/plain": [
       "<Figure size 432x288 with 1 Axes>"
      ]
     },
     "metadata": {
      "needs_background": "light"
     },
     "output_type": "display_data"
    }
   ],
   "source": [
    "plt.plot(X, y_true_mean, color=\"black\", linestyle=\"dashed\", label=\"True mean\")\n",
    "\n",
    "for quantile, y_pred in predictions.items():\n",
    "    plt.plot(X, y_pred, label=f\"Quantile: {quantile}\")\n",
    "\n",
    "plt.scatter(\n",
    "    x[out_bounds_predictions],\n",
    "    y_pareto[out_bounds_predictions],\n",
    "    color=\"black\",\n",
    "    marker=\"+\",\n",
    "    alpha=0.5,\n",
    "    label=\"Outside interval\",\n",
    ")\n",
    "plt.scatter(\n",
    "    x[~out_bounds_predictions],\n",
    "    y_pareto[~out_bounds_predictions],\n",
    "    color=\"black\",\n",
    "    alpha=0.5,\n",
    "    label=\"Inside interval\",\n",
    ")\n",
    "\n",
    "plt.legend()\n",
    "plt.xlabel(\"x\")\n",
    "plt.ylabel(\"y\")\n",
    "_ = plt.title(\"Quantiles of asymmetric Pareto distributed target\")"
   ]
  },
  {
   "cell_type": "markdown",
   "id": "e84fa99a",
   "metadata": {},
   "source": [
    "Из-за асимметрии распределения шума мы наблюдаем, что истинное среднее значение и предполагаемая условная медиана различаются. Мы также наблюдаем, что каждая модель квантиля имеет разные параметры, чтобы лучше соответствовать желаемому квантилю. Обратите внимание, что в идеале в этом случае все квантили должны быть параллельными, что станет более заметным при увеличении количества точек данных или менее экстремальных квантилей, например, 10% и 90%."
   ]
  },
  {
   "cell_type": "code",
   "execution_count": null,
   "id": "5cd06d87",
   "metadata": {},
   "outputs": [],
   "source": []
  },
  {
   "cell_type": "code",
   "execution_count": null,
   "id": "f8190c4d",
   "metadata": {},
   "outputs": [],
   "source": []
  },
  {
   "cell_type": "code",
   "execution_count": null,
   "id": "c9cf768e",
   "metadata": {},
   "outputs": [],
   "source": []
  },
  {
   "cell_type": "markdown",
   "id": "e3e3e513",
   "metadata": {},
   "source": [
    "В этом разделе мы остановимся на разнице в отношении ошибки, которую QuantileRegressorи LinearRegressionминимизируют.\n",
    "\n",
    "Действительно, LinearRegressionэто метод наименьших квадратов, сводящий к минимуму среднеквадратичную ошибку (MSE) между тренировочными и прогнозируемыми целями. Напротив, QuantileRegressorwith quantile=0.5 минимизирует среднюю абсолютную ошибку (MAE).\n",
    "\n",
    "Давайте сначала вычислим ошибки обучения таких моделей с точки зрения среднеквадратичной ошибки и средней абсолютной ошибки. Мы будем использовать асимметричную цель с распределением по Парето, чтобы сделать ее более интересной, поскольку среднее значение и медиана не равны."
   ]
  },
  {
   "cell_type": "code",
   "execution_count": 23,
   "id": "8664f4f0",
   "metadata": {},
   "outputs": [
    {
     "name": "stdout",
     "output_type": "stream",
     "text": [
      "Training error (in-sample performance)\n",
      "    LinearRegression:\n",
      "    MAE = 1.805\n",
      "    MSE = 6.486\n",
      "    QuantileRegressor:\n",
      "    MAE = 1.670\n",
      "    MSE = 7.025\n",
      "    \n"
     ]
    }
   ],
   "source": [
    "from sklearn.linear_model import LinearRegression\n",
    "from sklearn.metrics import mean_absolute_error\n",
    "from sklearn.metrics import mean_squared_error\n",
    "\n",
    "linear_regression = LinearRegression()\n",
    "quantile_regression = QuantileRegressor(quantile=0.5, alpha=0)\n",
    "\n",
    "y_pred_lr = linear_regression.fit(X, y_pareto).predict(X)\n",
    "y_pred_qr = quantile_regression.fit(X, y_pareto).predict(X)\n",
    "\n",
    "print(\n",
    "    f\"\"\"Training error (in-sample performance)\n",
    "    {linear_regression.__class__.__name__}:\n",
    "    MAE = {mean_absolute_error(y_pareto, y_pred_lr):.3f}\n",
    "    MSE = {mean_squared_error(y_pareto, y_pred_lr):.3f}\n",
    "    {quantile_regression.__class__.__name__}:\n",
    "    MAE = {mean_absolute_error(y_pareto, y_pred_qr):.3f}\n",
    "    MSE = {mean_squared_error(y_pareto, y_pred_qr):.3f}\n",
    "    \"\"\"\n",
    ")"
   ]
  },
  {
   "cell_type": "markdown",
   "id": "58a0e889",
   "metadata": {},
   "source": [
    "На обучающей выборке мы видим, что MAE ниже QuantileRegressorдля LinearRegression. В отличие от этого, MSE ниже LinearRegressionдля QuantileRegressor. Эти результаты подтверждают, что MAE — это потери, минимизированные , QuantileRegressor тогда как MSE — это минимизированные потери LinearRegression.\n",
    "\n",
    "Мы можем сделать аналогичную оценку, но посмотрев на ошибку теста, полученную перекрестной проверкой."
   ]
  },
  {
   "cell_type": "code",
   "execution_count": 24,
   "id": "f260e0e5",
   "metadata": {},
   "outputs": [
    {
     "name": "stdout",
     "output_type": "stream",
     "text": [
      "Test error (cross-validated performance)\n",
      "    LinearRegression:\n",
      "    MAE = 1.732\n",
      "    MSE = 6.690\n",
      "    QuantileRegressor:\n",
      "    MAE = 1.679\n",
      "    MSE = 7.129\n",
      "    \n"
     ]
    }
   ],
   "source": [
    "from sklearn.model_selection import cross_validate\n",
    "\n",
    "cv_results_lr = cross_validate(\n",
    "    linear_regression,\n",
    "    X,\n",
    "    y_pareto,\n",
    "    cv=3,\n",
    "    scoring=[\"neg_mean_absolute_error\", \"neg_mean_squared_error\"],\n",
    ")\n",
    "cv_results_qr = cross_validate(\n",
    "    quantile_regression,\n",
    "    X,\n",
    "    y_pareto,\n",
    "    cv=3,\n",
    "    scoring=[\"neg_mean_absolute_error\", \"neg_mean_squared_error\"],\n",
    ")\n",
    "print(\n",
    "    f\"\"\"Test error (cross-validated performance)\n",
    "    {linear_regression.__class__.__name__}:\n",
    "    MAE = {-cv_results_lr[\"test_neg_mean_absolute_error\"].mean():.3f}\n",
    "    MSE = {-cv_results_lr[\"test_neg_mean_squared_error\"].mean():.3f}\n",
    "    {quantile_regression.__class__.__name__}:\n",
    "    MAE = {-cv_results_qr[\"test_neg_mean_absolute_error\"].mean():.3f}\n",
    "    MSE = {-cv_results_qr[\"test_neg_mean_squared_error\"].mean():.3f}\n",
    "    \"\"\"\n",
    ")"
   ]
  },
  {
   "cell_type": "code",
   "execution_count": null,
   "id": "db9dcdda",
   "metadata": {},
   "outputs": [],
   "source": []
  }
 ],
 "metadata": {
  "kernelspec": {
   "display_name": "Python 3 (ipykernel)",
   "language": "python",
   "name": "python3"
  },
  "language_info": {
   "codemirror_mode": {
    "name": "ipython",
    "version": 3
   },
   "file_extension": ".py",
   "mimetype": "text/x-python",
   "name": "python",
   "nbconvert_exporter": "python",
   "pygments_lexer": "ipython3",
   "version": "3.9.7"
  }
 },
 "nbformat": 4,
 "nbformat_minor": 5
}
